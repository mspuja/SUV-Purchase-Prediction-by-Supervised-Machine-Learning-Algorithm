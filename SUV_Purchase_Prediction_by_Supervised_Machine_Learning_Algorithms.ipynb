{
  "cells": [
    {
      "cell_type": "markdown",
      "id": "f4ba9f7f",
      "metadata": {
        "id": "f4ba9f7f",
        "papermill": {
          "duration": 0.028964,
          "end_time": "2022-11-03T14:39:22.381742",
          "exception": false,
          "start_time": "2022-11-03T14:39:22.352778",
          "status": "completed"
        },
        "tags": []
      },
      "source": [
        "#  **Problem Statement:** We are given Gender, age along with salary and we have to predict whether a person will purchase a SUV car or not.\n",
        "\n",
        "## **About The Dataset:**\n",
        "\n",
        "Dataset contains 5 columns.\n",
        "\n",
        "UserID - Each person has a unique ID from which we can identify the person uniquely.\n",
        "\n",
        "Gender - Person can male or female. This field is very important for our hypothesis.\n",
        "\n",
        "Age - Age of the person. Because our product can be useful to some ages only.\n",
        "\n",
        "EstimatedSalary - This column contains salary of a person as salary can affect the shopping of a person.\n",
        "\n",
        "Purchased - Contains two numbers ‘0’ or ‘1’. ‘0’ means not purchased and ‘1’ means purchased.This variable is our dependent variable.\n",
        "\n",
        "Content\n",
        "\n",
        "The target feature is\n",
        "\n",
        "Purchased\n",
        "\n",
        "The feature sets are:\n",
        "\n",
        "UserID, Gender, Age, EstimatedSalary.\n",
        "\n",
        "\n"
      ]
    },
    {
      "cell_type": "markdown",
      "source": [
        "# **Dataset Upload**"
      ],
      "metadata": {
        "id": "709WayfgyVjh"
      },
      "id": "709WayfgyVjh"
    },
    {
      "cell_type": "code",
      "metadata": {
        "colab": {
          "resources": {
            "http://localhost:8080/nbextensions/google.colab/files.js": {
              "data": "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",
              "ok": true,
              "headers": [
                [
                  "content-type",
                  "application/javascript"
                ]
              ],
              "status": 200,
              "status_text": ""
            }
          },
          "base_uri": "https://localhost:8080/",
          "height": 72
        },
        "id": "1EFvYMoFaPg1",
        "outputId": "f063ce95-ba0c-4a30-a2c6-97d089d3d489"
      },
      "source": [
        "from google.colab import files\n",
        "file = files.upload()"
      ],
      "execution_count": null,
      "outputs": [
        {
          "output_type": "display_data",
          "data": {
            "text/html": [
              "\n",
              "     <input type=\"file\" id=\"files-9622b603-8edf-4986-9447-ab31b64f6b03\" name=\"files[]\" multiple disabled\n",
              "        style=\"border:none\" />\n",
              "     <output id=\"result-9622b603-8edf-4986-9447-ab31b64f6b03\">\n",
              "      Upload widget is only available when the cell has been executed in the\n",
              "      current browser session. Please rerun this cell to enable.\n",
              "      </output>\n",
              "      <script src=\"/nbextensions/google.colab/files.js\"></script> "
            ],
            "text/plain": [
              "<IPython.core.display.HTML object>"
            ]
          },
          "metadata": {}
        },
        {
          "output_type": "stream",
          "name": "stdout",
          "text": [
            "Saving Social_Network_Ads.csv to Social_Network_Ads.csv\n"
          ]
        }
      ],
      "id": "1EFvYMoFaPg1"
    },
    {
      "cell_type": "markdown",
      "id": "f5f31381",
      "metadata": {
        "id": "f5f31381",
        "papermill": {
          "duration": 0.023331,
          "end_time": "2022-11-03T14:39:22.429970",
          "exception": false,
          "start_time": "2022-11-03T14:39:22.406639",
          "status": "completed"
        },
        "tags": []
      },
      "source": [
        "# **Importing Required Libraries**"
      ]
    },
    {
      "cell_type": "code",
      "execution_count": null,
      "id": "e60aef39",
      "metadata": {
        "execution": {
          "iopub.execute_input": "2022-11-03T14:39:22.480277Z",
          "iopub.status.busy": "2022-11-03T14:39:22.479157Z",
          "iopub.status.idle": "2022-11-03T14:39:23.749193Z",
          "shell.execute_reply": "2022-11-03T14:39:23.747451Z"
        },
        "id": "e60aef39",
        "papermill": {
          "duration": 1.299041,
          "end_time": "2022-11-03T14:39:23.752673",
          "exception": false,
          "start_time": "2022-11-03T14:39:22.453632",
          "status": "completed"
        },
        "tags": []
      },
      "outputs": [],
      "source": [
        "import pandas as pd\n",
        "import seaborn as sns\n",
        "import warnings\n",
        "warnings.filterwarnings('ignore')"
      ]
    },
    {
      "cell_type": "markdown",
      "id": "5d48cd09",
      "metadata": {
        "id": "5d48cd09",
        "papermill": {
          "duration": 0.023807,
          "end_time": "2022-11-03T14:39:23.801055",
          "exception": false,
          "start_time": "2022-11-03T14:39:23.777248",
          "status": "completed"
        },
        "tags": []
      },
      "source": [
        "# **Dataset Loading and Reading**"
      ]
    },
    {
      "cell_type": "code",
      "execution_count": null,
      "id": "11b817fa",
      "metadata": {
        "execution": {
          "iopub.execute_input": "2022-11-03T14:39:23.851725Z",
          "iopub.status.busy": "2022-11-03T14:39:23.850833Z",
          "iopub.status.idle": "2022-11-03T14:39:23.895644Z",
          "shell.execute_reply": "2022-11-03T14:39:23.894170Z"
        },
        "id": "11b817fa",
        "outputId": "40c198da-a666-4f8c-b4eb-00a8a1cb0a62",
        "papermill": {
          "duration": 0.073904,
          "end_time": "2022-11-03T14:39:23.898530",
          "exception": false,
          "start_time": "2022-11-03T14:39:23.824626",
          "status": "completed"
        },
        "tags": []
      },
      "outputs": [
        {
          "data": {
            "text/html": [
              "<div>\n",
              "<style scoped>\n",
              "    .dataframe tbody tr th:only-of-type {\n",
              "        vertical-align: middle;\n",
              "    }\n",
              "\n",
              "    .dataframe tbody tr th {\n",
              "        vertical-align: top;\n",
              "    }\n",
              "\n",
              "    .dataframe thead th {\n",
              "        text-align: right;\n",
              "    }\n",
              "</style>\n",
              "<table border=\"1\" class=\"dataframe\">\n",
              "  <thead>\n",
              "    <tr style=\"text-align: right;\">\n",
              "      <th></th>\n",
              "      <th>User ID</th>\n",
              "      <th>Gender</th>\n",
              "      <th>Age</th>\n",
              "      <th>EstimatedSalary</th>\n",
              "      <th>Purchased</th>\n",
              "    </tr>\n",
              "  </thead>\n",
              "  <tbody>\n",
              "    <tr>\n",
              "      <th>0</th>\n",
              "      <td>15624510</td>\n",
              "      <td>Male</td>\n",
              "      <td>19</td>\n",
              "      <td>19000</td>\n",
              "      <td>0</td>\n",
              "    </tr>\n",
              "    <tr>\n",
              "      <th>1</th>\n",
              "      <td>15810944</td>\n",
              "      <td>Male</td>\n",
              "      <td>35</td>\n",
              "      <td>20000</td>\n",
              "      <td>0</td>\n",
              "    </tr>\n",
              "    <tr>\n",
              "      <th>2</th>\n",
              "      <td>15668575</td>\n",
              "      <td>Female</td>\n",
              "      <td>26</td>\n",
              "      <td>43000</td>\n",
              "      <td>0</td>\n",
              "    </tr>\n",
              "    <tr>\n",
              "      <th>3</th>\n",
              "      <td>15603246</td>\n",
              "      <td>Female</td>\n",
              "      <td>27</td>\n",
              "      <td>57000</td>\n",
              "      <td>0</td>\n",
              "    </tr>\n",
              "    <tr>\n",
              "      <th>4</th>\n",
              "      <td>15804002</td>\n",
              "      <td>Male</td>\n",
              "      <td>19</td>\n",
              "      <td>76000</td>\n",
              "      <td>0</td>\n",
              "    </tr>\n",
              "    <tr>\n",
              "      <th>...</th>\n",
              "      <td>...</td>\n",
              "      <td>...</td>\n",
              "      <td>...</td>\n",
              "      <td>...</td>\n",
              "      <td>...</td>\n",
              "    </tr>\n",
              "    <tr>\n",
              "      <th>395</th>\n",
              "      <td>15691863</td>\n",
              "      <td>Female</td>\n",
              "      <td>46</td>\n",
              "      <td>41000</td>\n",
              "      <td>1</td>\n",
              "    </tr>\n",
              "    <tr>\n",
              "      <th>396</th>\n",
              "      <td>15706071</td>\n",
              "      <td>Male</td>\n",
              "      <td>51</td>\n",
              "      <td>23000</td>\n",
              "      <td>1</td>\n",
              "    </tr>\n",
              "    <tr>\n",
              "      <th>397</th>\n",
              "      <td>15654296</td>\n",
              "      <td>Female</td>\n",
              "      <td>50</td>\n",
              "      <td>20000</td>\n",
              "      <td>1</td>\n",
              "    </tr>\n",
              "    <tr>\n",
              "      <th>398</th>\n",
              "      <td>15755018</td>\n",
              "      <td>Male</td>\n",
              "      <td>36</td>\n",
              "      <td>33000</td>\n",
              "      <td>0</td>\n",
              "    </tr>\n",
              "    <tr>\n",
              "      <th>399</th>\n",
              "      <td>15594041</td>\n",
              "      <td>Female</td>\n",
              "      <td>49</td>\n",
              "      <td>36000</td>\n",
              "      <td>1</td>\n",
              "    </tr>\n",
              "  </tbody>\n",
              "</table>\n",
              "<p>400 rows × 5 columns</p>\n",
              "</div>"
            ],
            "text/plain": [
              "      User ID  Gender  Age  EstimatedSalary  Purchased\n",
              "0    15624510    Male   19            19000          0\n",
              "1    15810944    Male   35            20000          0\n",
              "2    15668575  Female   26            43000          0\n",
              "3    15603246  Female   27            57000          0\n",
              "4    15804002    Male   19            76000          0\n",
              "..        ...     ...  ...              ...        ...\n",
              "395  15691863  Female   46            41000          1\n",
              "396  15706071    Male   51            23000          1\n",
              "397  15654296  Female   50            20000          1\n",
              "398  15755018    Male   36            33000          0\n",
              "399  15594041  Female   49            36000          1\n",
              "\n",
              "[400 rows x 5 columns]"
            ]
          },
          "execution_count": 2,
          "metadata": {},
          "output_type": "execute_result"
        }
      ],
      "source": [
        "df = pd.read_csv('Social_Network_Ads.csv')\n",
        "df"
      ]
    },
    {
      "cell_type": "markdown",
      "id": "e1896b92",
      "metadata": {
        "id": "e1896b92",
        "papermill": {
          "duration": 0.023271,
          "end_time": "2022-11-03T14:39:23.947015",
          "exception": false,
          "start_time": "2022-11-03T14:39:23.923744",
          "status": "completed"
        },
        "tags": []
      },
      "source": [
        "# **Dataset Analyzing**"
      ]
    },
    {
      "cell_type": "markdown",
      "id": "32b9c1df",
      "metadata": {
        "id": "32b9c1df",
        "papermill": {
          "duration": 0.023701,
          "end_time": "2022-11-03T14:39:23.994377",
          "exception": false,
          "start_time": "2022-11-03T14:39:23.970676",
          "status": "completed"
        },
        "tags": []
      },
      "source": [
        "## **Dataset Information** "
      ]
    },
    {
      "cell_type": "code",
      "execution_count": null,
      "id": "9a51af1a",
      "metadata": {
        "execution": {
          "iopub.execute_input": "2022-11-03T14:39:24.045053Z",
          "iopub.status.busy": "2022-11-03T14:39:24.044507Z",
          "iopub.status.idle": "2022-11-03T14:39:24.069232Z",
          "shell.execute_reply": "2022-11-03T14:39:24.067960Z"
        },
        "id": "9a51af1a",
        "outputId": "0ee6abd4-19de-4a44-fb99-2b1926c25c90",
        "papermill": {
          "duration": 0.052205,
          "end_time": "2022-11-03T14:39:24.071653",
          "exception": false,
          "start_time": "2022-11-03T14:39:24.019448",
          "status": "completed"
        },
        "tags": []
      },
      "outputs": [
        {
          "name": "stdout",
          "output_type": "stream",
          "text": [
            "<class 'pandas.core.frame.DataFrame'>\n",
            "RangeIndex: 400 entries, 0 to 399\n",
            "Data columns (total 5 columns):\n",
            " #   Column           Non-Null Count  Dtype \n",
            "---  ------           --------------  ----- \n",
            " 0   User ID          400 non-null    int64 \n",
            " 1   Gender           400 non-null    object\n",
            " 2   Age              400 non-null    int64 \n",
            " 3   EstimatedSalary  400 non-null    int64 \n",
            " 4   Purchased        400 non-null    int64 \n",
            "dtypes: int64(4), object(1)\n",
            "memory usage: 15.8+ KB\n"
          ]
        }
      ],
      "source": [
        "df.info()"
      ]
    },
    {
      "cell_type": "markdown",
      "id": "dd7834c2",
      "metadata": {
        "id": "dd7834c2",
        "papermill": {
          "duration": 0.023799,
          "end_time": "2022-11-03T14:39:24.119376",
          "exception": false,
          "start_time": "2022-11-03T14:39:24.095577",
          "status": "completed"
        },
        "tags": []
      },
      "source": [
        "## **Dataset Description** "
      ]
    },
    {
      "cell_type": "code",
      "execution_count": null,
      "id": "bc804472",
      "metadata": {
        "execution": {
          "iopub.execute_input": "2022-11-03T14:39:24.171129Z",
          "iopub.status.busy": "2022-11-03T14:39:24.169889Z",
          "iopub.status.idle": "2022-11-03T14:39:24.197845Z",
          "shell.execute_reply": "2022-11-03T14:39:24.196592Z"
        },
        "id": "bc804472",
        "outputId": "0585db38-4c39-4569-f27d-88726b1d5497",
        "papermill": {
          "duration": 0.056206,
          "end_time": "2022-11-03T14:39:24.200394",
          "exception": false,
          "start_time": "2022-11-03T14:39:24.144188",
          "status": "completed"
        },
        "tags": []
      },
      "outputs": [
        {
          "data": {
            "text/html": [
              "<div>\n",
              "<style scoped>\n",
              "    .dataframe tbody tr th:only-of-type {\n",
              "        vertical-align: middle;\n",
              "    }\n",
              "\n",
              "    .dataframe tbody tr th {\n",
              "        vertical-align: top;\n",
              "    }\n",
              "\n",
              "    .dataframe thead th {\n",
              "        text-align: right;\n",
              "    }\n",
              "</style>\n",
              "<table border=\"1\" class=\"dataframe\">\n",
              "  <thead>\n",
              "    <tr style=\"text-align: right;\">\n",
              "      <th></th>\n",
              "      <th>User ID</th>\n",
              "      <th>Age</th>\n",
              "      <th>EstimatedSalary</th>\n",
              "      <th>Purchased</th>\n",
              "    </tr>\n",
              "  </thead>\n",
              "  <tbody>\n",
              "    <tr>\n",
              "      <th>count</th>\n",
              "      <td>4.000000e+02</td>\n",
              "      <td>400.000000</td>\n",
              "      <td>400.000000</td>\n",
              "      <td>400.000000</td>\n",
              "    </tr>\n",
              "    <tr>\n",
              "      <th>mean</th>\n",
              "      <td>1.569154e+07</td>\n",
              "      <td>37.655000</td>\n",
              "      <td>69742.500000</td>\n",
              "      <td>0.357500</td>\n",
              "    </tr>\n",
              "    <tr>\n",
              "      <th>std</th>\n",
              "      <td>7.165832e+04</td>\n",
              "      <td>10.482877</td>\n",
              "      <td>34096.960282</td>\n",
              "      <td>0.479864</td>\n",
              "    </tr>\n",
              "    <tr>\n",
              "      <th>min</th>\n",
              "      <td>1.556669e+07</td>\n",
              "      <td>18.000000</td>\n",
              "      <td>15000.000000</td>\n",
              "      <td>0.000000</td>\n",
              "    </tr>\n",
              "    <tr>\n",
              "      <th>25%</th>\n",
              "      <td>1.562676e+07</td>\n",
              "      <td>29.750000</td>\n",
              "      <td>43000.000000</td>\n",
              "      <td>0.000000</td>\n",
              "    </tr>\n",
              "    <tr>\n",
              "      <th>50%</th>\n",
              "      <td>1.569434e+07</td>\n",
              "      <td>37.000000</td>\n",
              "      <td>70000.000000</td>\n",
              "      <td>0.000000</td>\n",
              "    </tr>\n",
              "    <tr>\n",
              "      <th>75%</th>\n",
              "      <td>1.575036e+07</td>\n",
              "      <td>46.000000</td>\n",
              "      <td>88000.000000</td>\n",
              "      <td>1.000000</td>\n",
              "    </tr>\n",
              "    <tr>\n",
              "      <th>max</th>\n",
              "      <td>1.581524e+07</td>\n",
              "      <td>60.000000</td>\n",
              "      <td>150000.000000</td>\n",
              "      <td>1.000000</td>\n",
              "    </tr>\n",
              "  </tbody>\n",
              "</table>\n",
              "</div>"
            ],
            "text/plain": [
              "            User ID         Age  EstimatedSalary   Purchased\n",
              "count  4.000000e+02  400.000000       400.000000  400.000000\n",
              "mean   1.569154e+07   37.655000     69742.500000    0.357500\n",
              "std    7.165832e+04   10.482877     34096.960282    0.479864\n",
              "min    1.556669e+07   18.000000     15000.000000    0.000000\n",
              "25%    1.562676e+07   29.750000     43000.000000    0.000000\n",
              "50%    1.569434e+07   37.000000     70000.000000    0.000000\n",
              "75%    1.575036e+07   46.000000     88000.000000    1.000000\n",
              "max    1.581524e+07   60.000000    150000.000000    1.000000"
            ]
          },
          "execution_count": 4,
          "metadata": {},
          "output_type": "execute_result"
        }
      ],
      "source": [
        "df.describe()"
      ]
    },
    {
      "cell_type": "code",
      "execution_count": null,
      "id": "51c0c3dc",
      "metadata": {
        "execution": {
          "iopub.execute_input": "2022-11-03T14:39:24.251354Z",
          "iopub.status.busy": "2022-11-03T14:39:24.250649Z",
          "iopub.status.idle": "2022-11-03T14:39:24.277549Z",
          "shell.execute_reply": "2022-11-03T14:39:24.276601Z"
        },
        "id": "51c0c3dc",
        "papermill": {
          "duration": 0.05523,
          "end_time": "2022-11-03T14:39:24.280024",
          "exception": false,
          "start_time": "2022-11-03T14:39:24.224794",
          "status": "completed"
        },
        "tags": [],
        "outputId": "5b22635b-aba9-46bb-d5df-c6125eb7bda5"
      },
      "outputs": [
        {
          "data": {
            "text/html": [
              "<div>\n",
              "<style scoped>\n",
              "    .dataframe tbody tr th:only-of-type {\n",
              "        vertical-align: middle;\n",
              "    }\n",
              "\n",
              "    .dataframe tbody tr th {\n",
              "        vertical-align: top;\n",
              "    }\n",
              "\n",
              "    .dataframe thead th {\n",
              "        text-align: right;\n",
              "    }\n",
              "</style>\n",
              "<table border=\"1\" class=\"dataframe\">\n",
              "  <thead>\n",
              "    <tr style=\"text-align: right;\">\n",
              "      <th></th>\n",
              "      <th>count</th>\n",
              "      <th>mean</th>\n",
              "      <th>std</th>\n",
              "      <th>min</th>\n",
              "      <th>25%</th>\n",
              "      <th>50%</th>\n",
              "      <th>75%</th>\n",
              "      <th>max</th>\n",
              "    </tr>\n",
              "  </thead>\n",
              "  <tbody>\n",
              "    <tr>\n",
              "      <th>User ID</th>\n",
              "      <td>400.0</td>\n",
              "      <td>1.569154e+07</td>\n",
              "      <td>71658.321581</td>\n",
              "      <td>15566689.0</td>\n",
              "      <td>15626763.75</td>\n",
              "      <td>15694341.5</td>\n",
              "      <td>15750363.0</td>\n",
              "      <td>15815236.0</td>\n",
              "    </tr>\n",
              "    <tr>\n",
              "      <th>Age</th>\n",
              "      <td>400.0</td>\n",
              "      <td>3.765500e+01</td>\n",
              "      <td>10.482877</td>\n",
              "      <td>18.0</td>\n",
              "      <td>29.75</td>\n",
              "      <td>37.0</td>\n",
              "      <td>46.0</td>\n",
              "      <td>60.0</td>\n",
              "    </tr>\n",
              "    <tr>\n",
              "      <th>EstimatedSalary</th>\n",
              "      <td>400.0</td>\n",
              "      <td>6.974250e+04</td>\n",
              "      <td>34096.960282</td>\n",
              "      <td>15000.0</td>\n",
              "      <td>43000.00</td>\n",
              "      <td>70000.0</td>\n",
              "      <td>88000.0</td>\n",
              "      <td>150000.0</td>\n",
              "    </tr>\n",
              "    <tr>\n",
              "      <th>Purchased</th>\n",
              "      <td>400.0</td>\n",
              "      <td>3.575000e-01</td>\n",
              "      <td>0.479864</td>\n",
              "      <td>0.0</td>\n",
              "      <td>0.00</td>\n",
              "      <td>0.0</td>\n",
              "      <td>1.0</td>\n",
              "      <td>1.0</td>\n",
              "    </tr>\n",
              "  </tbody>\n",
              "</table>\n",
              "</div>"
            ],
            "text/plain": [
              "                 count          mean           std         min          25%  \\\n",
              "User ID          400.0  1.569154e+07  71658.321581  15566689.0  15626763.75   \n",
              "Age              400.0  3.765500e+01     10.482877        18.0        29.75   \n",
              "EstimatedSalary  400.0  6.974250e+04  34096.960282     15000.0     43000.00   \n",
              "Purchased        400.0  3.575000e-01      0.479864         0.0         0.00   \n",
              "\n",
              "                        50%         75%         max  \n",
              "User ID          15694341.5  15750363.0  15815236.0  \n",
              "Age                    37.0        46.0        60.0  \n",
              "EstimatedSalary     70000.0     88000.0    150000.0  \n",
              "Purchased               0.0         1.0         1.0  "
            ]
          },
          "execution_count": 5,
          "metadata": {},
          "output_type": "execute_result"
        }
      ],
      "source": [
        "df.describe().T"
      ]
    },
    {
      "cell_type": "markdown",
      "id": "80cd8e63",
      "metadata": {
        "id": "80cd8e63",
        "papermill": {
          "duration": 0.024816,
          "end_time": "2022-11-03T14:39:24.330171",
          "exception": false,
          "start_time": "2022-11-03T14:39:24.305355",
          "status": "completed"
        },
        "tags": []
      },
      "source": [
        "## **Total no. of Rows and Columns in Dataset**\n",
        "\n",
        "\n",
        "\n"
      ]
    },
    {
      "cell_type": "code",
      "execution_count": null,
      "id": "51688df2",
      "metadata": {
        "execution": {
          "iopub.execute_input": "2022-11-03T14:39:24.381484Z",
          "iopub.status.busy": "2022-11-03T14:39:24.381027Z",
          "iopub.status.idle": "2022-11-03T14:39:24.387925Z",
          "shell.execute_reply": "2022-11-03T14:39:24.386764Z"
        },
        "id": "51688df2",
        "outputId": "83ca855f-7383-4cb4-bc50-6a694f1bb55c",
        "papermill": {
          "duration": 0.035208,
          "end_time": "2022-11-03T14:39:24.390290",
          "exception": false,
          "start_time": "2022-11-03T14:39:24.355082",
          "status": "completed"
        },
        "tags": []
      },
      "outputs": [
        {
          "data": {
            "text/plain": [
              "(400, 5)"
            ]
          },
          "execution_count": 6,
          "metadata": {},
          "output_type": "execute_result"
        }
      ],
      "source": [
        "df.shape"
      ]
    },
    {
      "cell_type": "markdown",
      "id": "7f64f756",
      "metadata": {
        "id": "7f64f756",
        "papermill": {
          "duration": 0.025735,
          "end_time": "2022-11-03T14:39:24.441413",
          "exception": false,
          "start_time": "2022-11-03T14:39:24.415678",
          "status": "completed"
        },
        "tags": []
      },
      "source": [
        "## **Unique Values Count**"
      ]
    },
    {
      "cell_type": "code",
      "execution_count": null,
      "id": "5d341a79",
      "metadata": {
        "execution": {
          "iopub.execute_input": "2022-11-03T14:39:24.492384Z",
          "iopub.status.busy": "2022-11-03T14:39:24.491932Z",
          "iopub.status.idle": "2022-11-03T14:39:24.504614Z",
          "shell.execute_reply": "2022-11-03T14:39:24.503352Z"
        },
        "id": "5d341a79",
        "outputId": "81e5a940-6e35-4c7f-c181-ce634f421cee",
        "papermill": {
          "duration": 0.041297,
          "end_time": "2022-11-03T14:39:24.507208",
          "exception": false,
          "start_time": "2022-11-03T14:39:24.465911",
          "status": "completed"
        },
        "tags": []
      },
      "outputs": [
        {
          "data": {
            "text/plain": [
              "User ID            400\n",
              "Gender               2\n",
              "Age                 43\n",
              "EstimatedSalary    117\n",
              "Purchased            2\n",
              "dtype: int64"
            ]
          },
          "execution_count": 7,
          "metadata": {},
          "output_type": "execute_result"
        }
      ],
      "source": [
        "df.nunique()"
      ]
    },
    {
      "cell_type": "markdown",
      "id": "b670d466",
      "metadata": {
        "id": "b670d466",
        "papermill": {
          "duration": 0.024465,
          "end_time": "2022-11-03T14:39:24.556407",
          "exception": false,
          "start_time": "2022-11-03T14:39:24.531942",
          "status": "completed"
        },
        "tags": []
      },
      "source": [
        "## **Missing Data Checking**"
      ]
    },
    {
      "cell_type": "code",
      "execution_count": null,
      "id": "fc9a5e47",
      "metadata": {
        "execution": {
          "iopub.execute_input": "2022-11-03T14:39:24.607958Z",
          "iopub.status.busy": "2022-11-03T14:39:24.607263Z",
          "iopub.status.idle": "2022-11-03T14:39:24.616236Z",
          "shell.execute_reply": "2022-11-03T14:39:24.615267Z"
        },
        "id": "fc9a5e47",
        "outputId": "11494b8d-a8a1-4d4c-fccc-010a321c46af",
        "papermill": {
          "duration": 0.03774,
          "end_time": "2022-11-03T14:39:24.618746",
          "exception": false,
          "start_time": "2022-11-03T14:39:24.581006",
          "status": "completed"
        },
        "tags": []
      },
      "outputs": [
        {
          "data": {
            "text/plain": [
              "User ID            0\n",
              "Gender             0\n",
              "Age                0\n",
              "EstimatedSalary    0\n",
              "Purchased          0\n",
              "dtype: int64"
            ]
          },
          "execution_count": 8,
          "metadata": {},
          "output_type": "execute_result"
        }
      ],
      "source": [
        "df.isnull().sum()"
      ]
    },
    {
      "cell_type": "markdown",
      "id": "de489a56",
      "metadata": {
        "id": "de489a56",
        "papermill": {
          "duration": 0.024334,
          "end_time": "2022-11-03T14:39:24.668360",
          "exception": false,
          "start_time": "2022-11-03T14:39:24.644026",
          "status": "completed"
        },
        "tags": []
      },
      "source": [
        "The dataset does not have any missing data"
      ]
    },
    {
      "cell_type": "markdown",
      "id": "f7dae48c",
      "metadata": {
        "id": "f7dae48c",
        "papermill": {
          "duration": 0.024226,
          "end_time": "2022-11-03T14:39:24.717241",
          "exception": false,
          "start_time": "2022-11-03T14:39:24.693015",
          "status": "completed"
        },
        "tags": []
      },
      "source": [
        "## **Converting categorical data to numerical data**"
      ]
    },
    {
      "cell_type": "code",
      "execution_count": null,
      "id": "a4a3ca89",
      "metadata": {
        "execution": {
          "iopub.execute_input": "2022-11-03T14:39:24.768349Z",
          "iopub.status.busy": "2022-11-03T14:39:24.767903Z",
          "iopub.status.idle": "2022-11-03T14:39:24.775071Z",
          "shell.execute_reply": "2022-11-03T14:39:24.774051Z"
        },
        "id": "a4a3ca89",
        "papermill": {
          "duration": 0.036206,
          "end_time": "2022-11-03T14:39:24.777984",
          "exception": false,
          "start_time": "2022-11-03T14:39:24.741778",
          "status": "completed"
        },
        "tags": []
      },
      "outputs": [],
      "source": [
        "df['Gender'].replace(to_replace=['Male', 'Female'], value=[1,2], inplace=True)"
      ]
    },
    {
      "cell_type": "markdown",
      "id": "e369df5d",
      "metadata": {
        "id": "e369df5d",
        "papermill": {
          "duration": 0.02448,
          "end_time": "2022-11-03T14:39:24.828371",
          "exception": false,
          "start_time": "2022-11-03T14:39:24.803891",
          "status": "completed"
        },
        "tags": []
      },
      "source": [
        "## **Dropping Column**"
      ]
    },
    {
      "cell_type": "code",
      "execution_count": null,
      "id": "157c845c",
      "metadata": {
        "execution": {
          "iopub.execute_input": "2022-11-03T14:39:24.880352Z",
          "iopub.status.busy": "2022-11-03T14:39:24.879883Z",
          "iopub.status.idle": "2022-11-03T14:39:24.886797Z",
          "shell.execute_reply": "2022-11-03T14:39:24.885871Z"
        },
        "id": "157c845c",
        "papermill": {
          "duration": 0.035889,
          "end_time": "2022-11-03T14:39:24.889318",
          "exception": false,
          "start_time": "2022-11-03T14:39:24.853429",
          "status": "completed"
        },
        "tags": []
      },
      "outputs": [],
      "source": [
        "df.drop(columns=['User ID'],axis =1,inplace=True)"
      ]
    },
    {
      "cell_type": "markdown",
      "id": "e2c6cb96",
      "metadata": {
        "id": "e2c6cb96",
        "papermill": {
          "duration": 0.025545,
          "end_time": "2022-11-03T14:39:24.939790",
          "exception": false,
          "start_time": "2022-11-03T14:39:24.914245",
          "status": "completed"
        },
        "tags": []
      },
      "source": [
        "## **The First 5 Columns of Dataset**"
      ]
    },
    {
      "cell_type": "code",
      "execution_count": null,
      "id": "155c08a1",
      "metadata": {
        "execution": {
          "iopub.execute_input": "2022-11-03T14:39:24.992693Z",
          "iopub.status.busy": "2022-11-03T14:39:24.991989Z",
          "iopub.status.idle": "2022-11-03T14:39:25.004115Z",
          "shell.execute_reply": "2022-11-03T14:39:25.002266Z"
        },
        "id": "155c08a1",
        "outputId": "d82a99e3-0d26-4bd4-ff6a-0df53c816218",
        "papermill": {
          "duration": 0.041984,
          "end_time": "2022-11-03T14:39:25.007027",
          "exception": false,
          "start_time": "2022-11-03T14:39:24.965043",
          "status": "completed"
        },
        "tags": []
      },
      "outputs": [
        {
          "data": {
            "text/html": [
              "<div>\n",
              "<style scoped>\n",
              "    .dataframe tbody tr th:only-of-type {\n",
              "        vertical-align: middle;\n",
              "    }\n",
              "\n",
              "    .dataframe tbody tr th {\n",
              "        vertical-align: top;\n",
              "    }\n",
              "\n",
              "    .dataframe thead th {\n",
              "        text-align: right;\n",
              "    }\n",
              "</style>\n",
              "<table border=\"1\" class=\"dataframe\">\n",
              "  <thead>\n",
              "    <tr style=\"text-align: right;\">\n",
              "      <th></th>\n",
              "      <th>Gender</th>\n",
              "      <th>Age</th>\n",
              "      <th>EstimatedSalary</th>\n",
              "      <th>Purchased</th>\n",
              "    </tr>\n",
              "  </thead>\n",
              "  <tbody>\n",
              "    <tr>\n",
              "      <th>0</th>\n",
              "      <td>1</td>\n",
              "      <td>19</td>\n",
              "      <td>19000</td>\n",
              "      <td>0</td>\n",
              "    </tr>\n",
              "    <tr>\n",
              "      <th>1</th>\n",
              "      <td>1</td>\n",
              "      <td>35</td>\n",
              "      <td>20000</td>\n",
              "      <td>0</td>\n",
              "    </tr>\n",
              "    <tr>\n",
              "      <th>2</th>\n",
              "      <td>2</td>\n",
              "      <td>26</td>\n",
              "      <td>43000</td>\n",
              "      <td>0</td>\n",
              "    </tr>\n",
              "    <tr>\n",
              "      <th>3</th>\n",
              "      <td>2</td>\n",
              "      <td>27</td>\n",
              "      <td>57000</td>\n",
              "      <td>0</td>\n",
              "    </tr>\n",
              "    <tr>\n",
              "      <th>4</th>\n",
              "      <td>1</td>\n",
              "      <td>19</td>\n",
              "      <td>76000</td>\n",
              "      <td>0</td>\n",
              "    </tr>\n",
              "  </tbody>\n",
              "</table>\n",
              "</div>"
            ],
            "text/plain": [
              "   Gender  Age  EstimatedSalary  Purchased\n",
              "0       1   19            19000          0\n",
              "1       1   35            20000          0\n",
              "2       2   26            43000          0\n",
              "3       2   27            57000          0\n",
              "4       1   19            76000          0"
            ]
          },
          "execution_count": 11,
          "metadata": {},
          "output_type": "execute_result"
        }
      ],
      "source": [
        "df.head()"
      ]
    },
    {
      "cell_type": "markdown",
      "id": "84ae8f53",
      "metadata": {
        "id": "84ae8f53",
        "papermill": {
          "duration": 0.024414,
          "end_time": "2022-11-03T14:39:25.057162",
          "exception": false,
          "start_time": "2022-11-03T14:39:25.032748",
          "status": "completed"
        },
        "tags": []
      },
      "source": [
        "## **The Last 5 Columns of Dataset**\n",
        "\n",
        "\n",
        "\n"
      ]
    },
    {
      "cell_type": "code",
      "execution_count": null,
      "id": "8dc0acc4",
      "metadata": {
        "execution": {
          "iopub.execute_input": "2022-11-03T14:39:25.109374Z",
          "iopub.status.busy": "2022-11-03T14:39:25.108900Z",
          "iopub.status.idle": "2022-11-03T14:39:25.119954Z",
          "shell.execute_reply": "2022-11-03T14:39:25.118790Z"
        },
        "id": "8dc0acc4",
        "papermill": {
          "duration": 0.040317,
          "end_time": "2022-11-03T14:39:25.122432",
          "exception": false,
          "start_time": "2022-11-03T14:39:25.082115",
          "status": "completed"
        },
        "tags": [],
        "outputId": "538ff082-1c9f-4f9c-ba03-559ab966692b"
      },
      "outputs": [
        {
          "data": {
            "text/html": [
              "<div>\n",
              "<style scoped>\n",
              "    .dataframe tbody tr th:only-of-type {\n",
              "        vertical-align: middle;\n",
              "    }\n",
              "\n",
              "    .dataframe tbody tr th {\n",
              "        vertical-align: top;\n",
              "    }\n",
              "\n",
              "    .dataframe thead th {\n",
              "        text-align: right;\n",
              "    }\n",
              "</style>\n",
              "<table border=\"1\" class=\"dataframe\">\n",
              "  <thead>\n",
              "    <tr style=\"text-align: right;\">\n",
              "      <th></th>\n",
              "      <th>Gender</th>\n",
              "      <th>Age</th>\n",
              "      <th>EstimatedSalary</th>\n",
              "      <th>Purchased</th>\n",
              "    </tr>\n",
              "  </thead>\n",
              "  <tbody>\n",
              "    <tr>\n",
              "      <th>395</th>\n",
              "      <td>2</td>\n",
              "      <td>46</td>\n",
              "      <td>41000</td>\n",
              "      <td>1</td>\n",
              "    </tr>\n",
              "    <tr>\n",
              "      <th>396</th>\n",
              "      <td>1</td>\n",
              "      <td>51</td>\n",
              "      <td>23000</td>\n",
              "      <td>1</td>\n",
              "    </tr>\n",
              "    <tr>\n",
              "      <th>397</th>\n",
              "      <td>2</td>\n",
              "      <td>50</td>\n",
              "      <td>20000</td>\n",
              "      <td>1</td>\n",
              "    </tr>\n",
              "    <tr>\n",
              "      <th>398</th>\n",
              "      <td>1</td>\n",
              "      <td>36</td>\n",
              "      <td>33000</td>\n",
              "      <td>0</td>\n",
              "    </tr>\n",
              "    <tr>\n",
              "      <th>399</th>\n",
              "      <td>2</td>\n",
              "      <td>49</td>\n",
              "      <td>36000</td>\n",
              "      <td>1</td>\n",
              "    </tr>\n",
              "  </tbody>\n",
              "</table>\n",
              "</div>"
            ],
            "text/plain": [
              "     Gender  Age  EstimatedSalary  Purchased\n",
              "395       2   46            41000          1\n",
              "396       1   51            23000          1\n",
              "397       2   50            20000          1\n",
              "398       1   36            33000          0\n",
              "399       2   49            36000          1"
            ]
          },
          "execution_count": 12,
          "metadata": {},
          "output_type": "execute_result"
        }
      ],
      "source": [
        "df.tail()"
      ]
    },
    {
      "cell_type": "markdown",
      "id": "20bfa92e",
      "metadata": {
        "id": "20bfa92e",
        "papermill": {
          "duration": 0.024937,
          "end_time": "2022-11-03T14:39:25.172468",
          "exception": false,
          "start_time": "2022-11-03T14:39:25.147531",
          "status": "completed"
        },
        "tags": []
      },
      "source": [
        "## **Correlation**"
      ]
    },
    {
      "cell_type": "code",
      "execution_count": null,
      "id": "1044eba8",
      "metadata": {
        "execution": {
          "iopub.execute_input": "2022-11-03T14:39:25.226073Z",
          "iopub.status.busy": "2022-11-03T14:39:25.225661Z",
          "iopub.status.idle": "2022-11-03T14:39:25.240777Z",
          "shell.execute_reply": "2022-11-03T14:39:25.239463Z"
        },
        "id": "1044eba8",
        "outputId": "08241857-375e-4f01-d127-e0c8e27325e6",
        "papermill": {
          "duration": 0.044475,
          "end_time": "2022-11-03T14:39:25.243129",
          "exception": false,
          "start_time": "2022-11-03T14:39:25.198654",
          "status": "completed"
        },
        "tags": []
      },
      "outputs": [
        {
          "data": {
            "text/html": [
              "<div>\n",
              "<style scoped>\n",
              "    .dataframe tbody tr th:only-of-type {\n",
              "        vertical-align: middle;\n",
              "    }\n",
              "\n",
              "    .dataframe tbody tr th {\n",
              "        vertical-align: top;\n",
              "    }\n",
              "\n",
              "    .dataframe thead th {\n",
              "        text-align: right;\n",
              "    }\n",
              "</style>\n",
              "<table border=\"1\" class=\"dataframe\">\n",
              "  <thead>\n",
              "    <tr style=\"text-align: right;\">\n",
              "      <th></th>\n",
              "      <th>Gender</th>\n",
              "      <th>Age</th>\n",
              "      <th>EstimatedSalary</th>\n",
              "      <th>Purchased</th>\n",
              "    </tr>\n",
              "  </thead>\n",
              "  <tbody>\n",
              "    <tr>\n",
              "      <th>Gender</th>\n",
              "      <td>1.000000</td>\n",
              "      <td>0.073741</td>\n",
              "      <td>0.060435</td>\n",
              "      <td>0.042469</td>\n",
              "    </tr>\n",
              "    <tr>\n",
              "      <th>Age</th>\n",
              "      <td>0.073741</td>\n",
              "      <td>1.000000</td>\n",
              "      <td>0.155238</td>\n",
              "      <td>0.622454</td>\n",
              "    </tr>\n",
              "    <tr>\n",
              "      <th>EstimatedSalary</th>\n",
              "      <td>0.060435</td>\n",
              "      <td>0.155238</td>\n",
              "      <td>1.000000</td>\n",
              "      <td>0.362083</td>\n",
              "    </tr>\n",
              "    <tr>\n",
              "      <th>Purchased</th>\n",
              "      <td>0.042469</td>\n",
              "      <td>0.622454</td>\n",
              "      <td>0.362083</td>\n",
              "      <td>1.000000</td>\n",
              "    </tr>\n",
              "  </tbody>\n",
              "</table>\n",
              "</div>"
            ],
            "text/plain": [
              "                   Gender       Age  EstimatedSalary  Purchased\n",
              "Gender           1.000000  0.073741         0.060435   0.042469\n",
              "Age              0.073741  1.000000         0.155238   0.622454\n",
              "EstimatedSalary  0.060435  0.155238         1.000000   0.362083\n",
              "Purchased        0.042469  0.622454         0.362083   1.000000"
            ]
          },
          "execution_count": 13,
          "metadata": {},
          "output_type": "execute_result"
        }
      ],
      "source": [
        "cor = df.corr()\n",
        "cor"
      ]
    },
    {
      "cell_type": "markdown",
      "id": "0c47d821",
      "metadata": {
        "id": "0c47d821",
        "papermill": {
          "duration": 0.025782,
          "end_time": "2022-11-03T14:39:25.294455",
          "exception": false,
          "start_time": "2022-11-03T14:39:25.268673",
          "status": "completed"
        },
        "tags": []
      },
      "source": [
        "## **Heatmap**"
      ]
    },
    {
      "cell_type": "code",
      "execution_count": null,
      "id": "2eca1c18",
      "metadata": {
        "execution": {
          "iopub.execute_input": "2022-11-03T14:39:25.347791Z",
          "iopub.status.busy": "2022-11-03T14:39:25.347131Z",
          "iopub.status.idle": "2022-11-03T14:39:25.717152Z",
          "shell.execute_reply": "2022-11-03T14:39:25.715805Z"
        },
        "id": "2eca1c18",
        "outputId": "cf2c4ffc-f9d1-4031-b113-5c41128f9c8b",
        "papermill": {
          "duration": 0.399826,
          "end_time": "2022-11-03T14:39:25.720021",
          "exception": false,
          "start_time": "2022-11-03T14:39:25.320195",
          "status": "completed"
        },
        "tags": []
      },
      "outputs": [
        {
          "data": {
            "text/plain": [
              "<function matplotlib.pyplot.show(close=None, block=None)>"
            ]
          },
          "execution_count": 14,
          "metadata": {},
          "output_type": "execute_result"
        },
        {
          "data": {
            "image/png": "[encoded data removed]",
            "text/plain": [
              "<Figure size 864x720 with 2 Axes>"
            ]
          },
          "metadata": {
            "needs_background": "light"
          },
          "output_type": "display_data"
        }
      ],
      "source": [
        "import seaborn as sns\n",
        "import matplotlib.pyplot as plt\n",
        "\n",
        "plt.figure(figsize=(12,10))\n",
        "sns.heatmap(cor, annot= True, cmap=plt.cm.CMRmap_r)\n",
        "plt.show"
      ]
    },
    {
      "cell_type": "markdown",
      "id": "3c6aa241",
      "metadata": {
        "id": "3c6aa241",
        "papermill": {
          "duration": 0.025529,
          "end_time": "2022-11-03T14:39:25.772055",
          "exception": false,
          "start_time": "2022-11-03T14:39:25.746526",
          "status": "completed"
        },
        "tags": []
      },
      "source": [
        "# **Exploratory Data Analysis (EDA)**"
      ]
    },
    {
      "cell_type": "code",
      "execution_count": null,
      "id": "d418aef8",
      "metadata": {
        "execution": {
          "iopub.execute_input": "2022-11-03T14:39:25.826598Z",
          "iopub.status.busy": "2022-11-03T14:39:25.826142Z",
          "iopub.status.idle": "2022-11-03T14:39:26.097626Z",
          "shell.execute_reply": "2022-11-03T14:39:26.096094Z"
        },
        "id": "d418aef8",
        "outputId": "355a3368-70fe-437e-9d25-d9f0ea80ca30",
        "papermill": {
          "duration": 0.302321,
          "end_time": "2022-11-03T14:39:26.100350",
          "exception": false,
          "start_time": "2022-11-03T14:39:25.798029",
          "status": "completed"
        },
        "tags": []
      },
      "outputs": [
        {
          "data": {
            "text/plain": [
              "<AxesSubplot:xlabel='Age', ylabel='Count'>"
            ]
          },
          "execution_count": 15,
          "metadata": {},
          "output_type": "execute_result"
        },
        {
          "data": {
            "image/png": "[encoded data removed]",
            "text/plain": [
              "<Figure size 432x288 with 1 Axes>"
            ]
          },
          "metadata": {
            "needs_background": "light"
          },
          "output_type": "display_data"
        }
      ],
      "source": [
        "sns.histplot(data = df, x = 'Age', bins = 'auto')"
      ]
    },
    {
      "cell_type": "code",
      "execution_count": null,
      "id": "2ac8476b",
      "metadata": {
        "execution": {
          "iopub.execute_input": "2022-11-03T14:39:26.156173Z",
          "iopub.status.busy": "2022-11-03T14:39:26.155053Z",
          "iopub.status.idle": "2022-11-03T14:39:26.437808Z",
          "shell.execute_reply": "2022-11-03T14:39:26.436514Z"
        },
        "id": "2ac8476b",
        "outputId": "e6c3b53a-f97e-4018-ddd9-9b9de7dc8332",
        "papermill": {
          "duration": 0.313896,
          "end_time": "2022-11-03T14:39:26.440655",
          "exception": false,
          "start_time": "2022-11-03T14:39:26.126759",
          "status": "completed"
        },
        "tags": []
      },
      "outputs": [
        {
          "data": {
            "text/plain": [
              "<AxesSubplot:xlabel='EstimatedSalary', ylabel='Count'>"
            ]
          },
          "execution_count": 16,
          "metadata": {},
          "output_type": "execute_result"
        },
        {
          "data": {
            "image/png": "[encoded data removed]",
            "text/plain": [
              "<Figure size 432x288 with 1 Axes>"
            ]
          },
          "metadata": {
            "needs_background": "light"
          },
          "output_type": "display_data"
        }
      ],
      "source": [
        "sns.histplot(data = df, x = 'EstimatedSalary', bins = 'auto')"
      ]
    },
    {
      "cell_type": "code",
      "execution_count": null,
      "id": "ae4656db",
      "metadata": {
        "execution": {
          "iopub.execute_input": "2022-11-03T14:39:26.497875Z",
          "iopub.status.busy": "2022-11-03T14:39:26.497408Z",
          "iopub.status.idle": "2022-11-03T14:39:26.940228Z",
          "shell.execute_reply": "2022-11-03T14:39:26.938861Z"
        },
        "id": "ae4656db",
        "outputId": "e39c5759-6e84-44a1-f28a-302945d1366b",
        "papermill": {
          "duration": 0.474769,
          "end_time": "2022-11-03T14:39:26.943168",
          "exception": false,
          "start_time": "2022-11-03T14:39:26.468399",
          "status": "completed"
        },
        "tags": []
      },
      "outputs": [
        {
          "data": {
            "text/plain": [
              "<seaborn.axisgrid.FacetGrid at 0x7fb21ebaaa50>"
            ]
          },
          "execution_count": 17,
          "metadata": {},
          "output_type": "execute_result"
        },
        {
          "data": {
            "image/png": "[encoded data removed]",
            "text/plain": [
              "<Figure size 491.875x432 with 1 Axes>"
            ]
          },
          "metadata": {
            "needs_background": "light"
          },
          "output_type": "display_data"
        }
      ],
      "source": [
        "sns.FacetGrid(df, hue = 'Purchased', height = 6).map(sns.kdeplot, 'Age').add_legend()"
      ]
    },
    {
      "cell_type": "code",
      "execution_count": null,
      "id": "62850d7b",
      "metadata": {
        "execution": {
          "iopub.execute_input": "2022-11-03T14:39:27.002037Z",
          "iopub.status.busy": "2022-11-03T14:39:27.001552Z",
          "iopub.status.idle": "2022-11-03T14:39:27.476478Z",
          "shell.execute_reply": "2022-11-03T14:39:27.475134Z"
        },
        "id": "62850d7b",
        "outputId": "33e81413-f849-41d7-fefd-ad4a0bb50549",
        "papermill": {
          "duration": 0.508196,
          "end_time": "2022-11-03T14:39:27.479186",
          "exception": false,
          "start_time": "2022-11-03T14:39:26.970990",
          "status": "completed"
        },
        "tags": []
      },
      "outputs": [
        {
          "data": {
            "text/plain": [
              "<seaborn.axisgrid.FacetGrid at 0x7fb21e952410>"
            ]
          },
          "execution_count": 18,
          "metadata": {},
          "output_type": "execute_result"
        },
        {
          "data": {
            "image/png": "[encoded data removed]",
            "text/plain": [
              "<Figure size 491.875x432 with 1 Axes>"
            ]
          },
          "metadata": {
            "needs_background": "light"
          },
          "output_type": "display_data"
        }
      ],
      "source": [
        "sns.FacetGrid(df, hue = 'Purchased', height = 6).map(sns.kdeplot, 'EstimatedSalary').add_legend()"
      ]
    },
    {
      "cell_type": "code",
      "execution_count": null,
      "id": "b7965d99",
      "metadata": {
        "execution": {
          "iopub.execute_input": "2022-11-03T14:39:27.540916Z",
          "iopub.status.busy": "2022-11-03T14:39:27.540477Z",
          "iopub.status.idle": "2022-11-03T14:39:27.965607Z",
          "shell.execute_reply": "2022-11-03T14:39:27.964609Z"
        },
        "id": "b7965d99",
        "outputId": "398e4a2e-eecc-40d8-c3de-0fd4c953368a",
        "papermill": {
          "duration": 0.460654,
          "end_time": "2022-11-03T14:39:27.968116",
          "exception": false,
          "start_time": "2022-11-03T14:39:27.507462",
          "status": "completed"
        },
        "tags": []
      },
      "outputs": [
        {
          "data": {
            "text/plain": [
              "<seaborn.axisgrid.FacetGrid at 0x7fb21e952690>"
            ]
          },
          "execution_count": 19,
          "metadata": {},
          "output_type": "execute_result"
        },
        {
          "data": {
            "image/png": "[encoded data removed]",
            "text/plain": [
              "<Figure size 491.875x432 with 1 Axes>"
            ]
          },
          "metadata": {
            "needs_background": "light"
          },
          "output_type": "display_data"
        }
      ],
      "source": [
        "sns.FacetGrid(df, hue = 'Purchased', height = 6).map(sns.kdeplot, 'Gender').add_legend()"
      ]
    },
    {
      "cell_type": "code",
      "execution_count": null,
      "id": "fba3db50",
      "metadata": {
        "execution": {
          "iopub.execute_input": "2022-11-03T14:39:28.030300Z",
          "iopub.status.busy": "2022-11-03T14:39:28.029031Z",
          "iopub.status.idle": "2022-11-03T14:39:28.250609Z",
          "shell.execute_reply": "2022-11-03T14:39:28.248958Z"
        },
        "id": "fba3db50",
        "outputId": "5d7f9dcc-d5e1-4538-e0d0-d24491e5e2cc",
        "papermill": {
          "duration": 0.25582,
          "end_time": "2022-11-03T14:39:28.253714",
          "exception": false,
          "start_time": "2022-11-03T14:39:27.997894",
          "status": "completed"
        },
        "tags": []
      },
      "outputs": [
        {
          "data": {
            "text/plain": [
              "<AxesSubplot:>"
            ]
          },
          "execution_count": 20,
          "metadata": {},
          "output_type": "execute_result"
        },
        {
          "data": {
            "image/png": "[encoded data removed]",
            "text/plain": [
              "<Figure size 432x288 with 1 Axes>"
            ]
          },
          "metadata": {
            "needs_background": "light"
          },
          "output_type": "display_data"
        }
      ],
      "source": [
        "df['Gender'].value_counts().plot(kind='bar')"
      ]
    },
    {
      "cell_type": "code",
      "execution_count": null,
      "id": "381f3faa",
      "metadata": {
        "execution": {
          "iopub.execute_input": "2022-11-03T14:39:28.315434Z",
          "iopub.status.busy": "2022-11-03T14:39:28.314975Z",
          "iopub.status.idle": "2022-11-03T14:39:28.513006Z",
          "shell.execute_reply": "2022-11-03T14:39:28.511575Z"
        },
        "id": "381f3faa",
        "outputId": "ea1e19a9-c4c5-4d55-bd1b-88cb7a730514",
        "papermill": {
          "duration": 0.232664,
          "end_time": "2022-11-03T14:39:28.516056",
          "exception": false,
          "start_time": "2022-11-03T14:39:28.283392",
          "status": "completed"
        },
        "tags": []
      },
      "outputs": [
        {
          "data": {
            "text/plain": [
              "<AxesSubplot:>"
            ]
          },
          "execution_count": 21,
          "metadata": {},
          "output_type": "execute_result"
        },
        {
          "data": {
            "image/png": "[encoded data removed]",
            "text/plain": [
              "<Figure size 432x288 with 1 Axes>"
            ]
          },
          "metadata": {
            "needs_background": "light"
          },
          "output_type": "display_data"
        }
      ],
      "source": [
        "df['Purchased'].value_counts().plot(kind='bar')"
      ]
    },
    {
      "cell_type": "markdown",
      "id": "e955b481",
      "metadata": {
        "id": "e955b481",
        "papermill": {
          "duration": 0.029691,
          "end_time": "2022-11-03T14:39:28.575242",
          "exception": false,
          "start_time": "2022-11-03T14:39:28.545551",
          "status": "completed"
        },
        "tags": []
      },
      "source": [
        "# **Model Building**"
      ]
    },
    {
      "cell_type": "markdown",
      "id": "394e66d1",
      "metadata": {
        "id": "394e66d1",
        "papermill": {
          "duration": 0.030221,
          "end_time": "2022-11-03T14:39:28.635323",
          "exception": false,
          "start_time": "2022-11-03T14:39:28.605102",
          "status": "completed"
        },
        "tags": []
      },
      "source": [
        "## **Model Training Steps.**\n",
        "\n",
        "\n",
        "## **Creating Feature columns and Target column**"
      ]
    },
    {
      "cell_type": "code",
      "execution_count": null,
      "id": "4cfe1514",
      "metadata": {
        "execution": {
          "iopub.execute_input": "2022-11-03T14:39:28.697173Z",
          "iopub.status.busy": "2022-11-03T14:39:28.696736Z",
          "iopub.status.idle": "2022-11-03T14:39:28.703500Z",
          "shell.execute_reply": "2022-11-03T14:39:28.702282Z"
        },
        "id": "4cfe1514",
        "papermill": {
          "duration": 0.040863,
          "end_time": "2022-11-03T14:39:28.705987",
          "exception": false,
          "start_time": "2022-11-03T14:39:28.665124",
          "status": "completed"
        },
        "tags": []
      },
      "outputs": [],
      "source": [
        "feature_cols = ['Gender','Age','EstimatedSalary']\n",
        "X = df[feature_cols]\n",
        "y = df['Purchased']"
      ]
    },
    {
      "cell_type": "markdown",
      "id": "718a1618",
      "metadata": {
        "id": "718a1618",
        "papermill": {
          "duration": 0.02894,
          "end_time": "2022-11-03T14:39:28.765015",
          "exception": false,
          "start_time": "2022-11-03T14:39:28.736075",
          "status": "completed"
        },
        "tags": []
      },
      "source": [
        "## **Creating training and testing dataset**"
      ]
    },
    {
      "cell_type": "code",
      "execution_count": null,
      "id": "1b263721",
      "metadata": {
        "execution": {
          "iopub.execute_input": "2022-11-03T14:39:28.826865Z",
          "iopub.status.busy": "2022-11-03T14:39:28.826008Z",
          "iopub.status.idle": "2022-11-03T14:39:29.057124Z",
          "shell.execute_reply": "2022-11-03T14:39:29.055861Z"
        },
        "id": "1b263721",
        "outputId": "1268336f-bd52-47e1-e31e-371d23a2e839",
        "papermill": {
          "duration": 0.264432,
          "end_time": "2022-11-03T14:39:29.059872",
          "exception": false,
          "start_time": "2022-11-03T14:39:28.795440",
          "status": "completed"
        },
        "tags": []
      },
      "outputs": [
        {
          "data": {
            "text/html": [
              "<div>\n",
              "<style scoped>\n",
              "    .dataframe tbody tr th:only-of-type {\n",
              "        vertical-align: middle;\n",
              "    }\n",
              "\n",
              "    .dataframe tbody tr th {\n",
              "        vertical-align: top;\n",
              "    }\n",
              "\n",
              "    .dataframe thead th {\n",
              "        text-align: right;\n",
              "    }\n",
              "</style>\n",
              "<table border=\"1\" class=\"dataframe\">\n",
              "  <thead>\n",
              "    <tr style=\"text-align: right;\">\n",
              "      <th></th>\n",
              "      <th>Gender</th>\n",
              "      <th>Age</th>\n",
              "      <th>EstimatedSalary</th>\n",
              "    </tr>\n",
              "  </thead>\n",
              "  <tbody>\n",
              "    <tr>\n",
              "      <th>315</th>\n",
              "      <td>2</td>\n",
              "      <td>39</td>\n",
              "      <td>75000</td>\n",
              "    </tr>\n",
              "    <tr>\n",
              "      <th>331</th>\n",
              "      <td>2</td>\n",
              "      <td>48</td>\n",
              "      <td>119000</td>\n",
              "    </tr>\n",
              "    <tr>\n",
              "      <th>195</th>\n",
              "      <td>1</td>\n",
              "      <td>34</td>\n",
              "      <td>43000</td>\n",
              "    </tr>\n",
              "    <tr>\n",
              "      <th>110</th>\n",
              "      <td>2</td>\n",
              "      <td>39</td>\n",
              "      <td>71000</td>\n",
              "    </tr>\n",
              "    <tr>\n",
              "      <th>47</th>\n",
              "      <td>2</td>\n",
              "      <td>27</td>\n",
              "      <td>54000</td>\n",
              "    </tr>\n",
              "    <tr>\n",
              "      <th>285</th>\n",
              "      <td>2</td>\n",
              "      <td>37</td>\n",
              "      <td>93000</td>\n",
              "    </tr>\n",
              "    <tr>\n",
              "      <th>134</th>\n",
              "      <td>2</td>\n",
              "      <td>28</td>\n",
              "      <td>55000</td>\n",
              "    </tr>\n",
              "    <tr>\n",
              "      <th>333</th>\n",
              "      <td>1</td>\n",
              "      <td>40</td>\n",
              "      <td>65000</td>\n",
              "    </tr>\n",
              "    <tr>\n",
              "      <th>131</th>\n",
              "      <td>1</td>\n",
              "      <td>33</td>\n",
              "      <td>31000</td>\n",
              "    </tr>\n",
              "    <tr>\n",
              "      <th>87</th>\n",
              "      <td>2</td>\n",
              "      <td>28</td>\n",
              "      <td>85000</td>\n",
              "    </tr>\n",
              "    <tr>\n",
              "      <th>370</th>\n",
              "      <td>2</td>\n",
              "      <td>60</td>\n",
              "      <td>46000</td>\n",
              "    </tr>\n",
              "    <tr>\n",
              "      <th>382</th>\n",
              "      <td>2</td>\n",
              "      <td>44</td>\n",
              "      <td>139000</td>\n",
              "    </tr>\n",
              "    <tr>\n",
              "      <th>298</th>\n",
              "      <td>1</td>\n",
              "      <td>45</td>\n",
              "      <td>79000</td>\n",
              "    </tr>\n",
              "    <tr>\n",
              "      <th>259</th>\n",
              "      <td>2</td>\n",
              "      <td>45</td>\n",
              "      <td>131000</td>\n",
              "    </tr>\n",
              "    <tr>\n",
              "      <th>366</th>\n",
              "      <td>2</td>\n",
              "      <td>58</td>\n",
              "      <td>47000</td>\n",
              "    </tr>\n",
              "    <tr>\n",
              "      <th>77</th>\n",
              "      <td>2</td>\n",
              "      <td>22</td>\n",
              "      <td>27000</td>\n",
              "    </tr>\n",
              "    <tr>\n",
              "      <th>264</th>\n",
              "      <td>1</td>\n",
              "      <td>48</td>\n",
              "      <td>90000</td>\n",
              "    </tr>\n",
              "    <tr>\n",
              "      <th>188</th>\n",
              "      <td>1</td>\n",
              "      <td>35</td>\n",
              "      <td>72000</td>\n",
              "    </tr>\n",
              "    <tr>\n",
              "      <th>336</th>\n",
              "      <td>1</td>\n",
              "      <td>58</td>\n",
              "      <td>144000</td>\n",
              "    </tr>\n",
              "    <tr>\n",
              "      <th>318</th>\n",
              "      <td>1</td>\n",
              "      <td>45</td>\n",
              "      <td>32000</td>\n",
              "    </tr>\n",
              "    <tr>\n",
              "      <th>203</th>\n",
              "      <td>2</td>\n",
              "      <td>41</td>\n",
              "      <td>71000</td>\n",
              "    </tr>\n",
              "    <tr>\n",
              "      <th>196</th>\n",
              "      <td>2</td>\n",
              "      <td>30</td>\n",
              "      <td>79000</td>\n",
              "    </tr>\n",
              "    <tr>\n",
              "      <th>48</th>\n",
              "      <td>1</td>\n",
              "      <td>30</td>\n",
              "      <td>135000</td>\n",
              "    </tr>\n",
              "    <tr>\n",
              "      <th>242</th>\n",
              "      <td>2</td>\n",
              "      <td>50</td>\n",
              "      <td>88000</td>\n",
              "    </tr>\n",
              "    <tr>\n",
              "      <th>44</th>\n",
              "      <td>2</td>\n",
              "      <td>28</td>\n",
              "      <td>84000</td>\n",
              "    </tr>\n",
              "    <tr>\n",
              "      <th>359</th>\n",
              "      <td>1</td>\n",
              "      <td>42</td>\n",
              "      <td>54000</td>\n",
              "    </tr>\n",
              "    <tr>\n",
              "      <th>148</th>\n",
              "      <td>1</td>\n",
              "      <td>29</td>\n",
              "      <td>61000</td>\n",
              "    </tr>\n",
              "    <tr>\n",
              "      <th>339</th>\n",
              "      <td>1</td>\n",
              "      <td>39</td>\n",
              "      <td>122000</td>\n",
              "    </tr>\n",
              "    <tr>\n",
              "      <th>76</th>\n",
              "      <td>1</td>\n",
              "      <td>18</td>\n",
              "      <td>52000</td>\n",
              "    </tr>\n",
              "    <tr>\n",
              "      <th>208</th>\n",
              "      <td>2</td>\n",
              "      <td>40</td>\n",
              "      <td>142000</td>\n",
              "    </tr>\n",
              "    <tr>\n",
              "      <th>19</th>\n",
              "      <td>2</td>\n",
              "      <td>48</td>\n",
              "      <td>29000</td>\n",
              "    </tr>\n",
              "    <tr>\n",
              "      <th>254</th>\n",
              "      <td>2</td>\n",
              "      <td>50</td>\n",
              "      <td>44000</td>\n",
              "    </tr>\n",
              "    <tr>\n",
              "      <th>229</th>\n",
              "      <td>2</td>\n",
              "      <td>42</td>\n",
              "      <td>80000</td>\n",
              "    </tr>\n",
              "    <tr>\n",
              "      <th>109</th>\n",
              "      <td>2</td>\n",
              "      <td>38</td>\n",
              "      <td>80000</td>\n",
              "    </tr>\n",
              "    <tr>\n",
              "      <th>29</th>\n",
              "      <td>1</td>\n",
              "      <td>31</td>\n",
              "      <td>18000</td>\n",
              "    </tr>\n",
              "    <tr>\n",
              "      <th>398</th>\n",
              "      <td>1</td>\n",
              "      <td>36</td>\n",
              "      <td>33000</td>\n",
              "    </tr>\n",
              "    <tr>\n",
              "      <th>31</th>\n",
              "      <td>2</td>\n",
              "      <td>27</td>\n",
              "      <td>137000</td>\n",
              "    </tr>\n",
              "    <tr>\n",
              "      <th>209</th>\n",
              "      <td>2</td>\n",
              "      <td>46</td>\n",
              "      <td>22000</td>\n",
              "    </tr>\n",
              "    <tr>\n",
              "      <th>220</th>\n",
              "      <td>2</td>\n",
              "      <td>41</td>\n",
              "      <td>80000</td>\n",
              "    </tr>\n",
              "    <tr>\n",
              "      <th>189</th>\n",
              "      <td>1</td>\n",
              "      <td>28</td>\n",
              "      <td>32000</td>\n",
              "    </tr>\n",
              "  </tbody>\n",
              "</table>\n",
              "</div>"
            ],
            "text/plain": [
              "     Gender  Age  EstimatedSalary\n",
              "315       2   39            75000\n",
              "331       2   48           119000\n",
              "195       1   34            43000\n",
              "110       2   39            71000\n",
              "47        2   27            54000\n",
              "285       2   37            93000\n",
              "134       2   28            55000\n",
              "333       1   40            65000\n",
              "131       1   33            31000\n",
              "87        2   28            85000\n",
              "370       2   60            46000\n",
              "382       2   44           139000\n",
              "298       1   45            79000\n",
              "259       2   45           131000\n",
              "366       2   58            47000\n",
              "77        2   22            27000\n",
              "264       1   48            90000\n",
              "188       1   35            72000\n",
              "336       1   58           144000\n",
              "318       1   45            32000\n",
              "203       2   41            71000\n",
              "196       2   30            79000\n",
              "48        1   30           135000\n",
              "242       2   50            88000\n",
              "44        2   28            84000\n",
              "359       1   42            54000\n",
              "148       1   29            61000\n",
              "339       1   39           122000\n",
              "76        1   18            52000\n",
              "208       2   40           142000\n",
              "19        2   48            29000\n",
              "254       2   50            44000\n",
              "229       2   42            80000\n",
              "109       2   38            80000\n",
              "29        1   31            18000\n",
              "398       1   36            33000\n",
              "31        2   27           137000\n",
              "209       2   46            22000\n",
              "220       2   41            80000\n",
              "189       1   28            32000"
            ]
          },
          "execution_count": 23,
          "metadata": {},
          "output_type": "execute_result"
        }
      ],
      "source": [
        "from sklearn.model_selection import train_test_split\n",
        "X_train, X_test, y_train, y_test = train_test_split(X, y, test_size = 0.1)\n",
        "X_test"
      ]
    },
    {
      "cell_type": "code",
      "execution_count": null,
      "id": "1b7bfcde",
      "metadata": {
        "execution": {
          "iopub.execute_input": "2022-11-03T14:39:29.124098Z",
          "iopub.status.busy": "2022-11-03T14:39:29.123633Z",
          "iopub.status.idle": "2022-11-03T14:39:29.132129Z",
          "shell.execute_reply": "2022-11-03T14:39:29.131031Z"
        },
        "id": "1b7bfcde",
        "outputId": "8ee7be5a-55a1-4d16-bb43-33ed7f059035",
        "papermill": {
          "duration": 0.042627,
          "end_time": "2022-11-03T14:39:29.134520",
          "exception": false,
          "start_time": "2022-11-03T14:39:29.091893",
          "status": "completed"
        },
        "tags": []
      },
      "outputs": [
        {
          "data": {
            "text/plain": [
              "315    1\n",
              "331    1\n",
              "195    0\n",
              "110    0\n",
              "47     0\n",
              "285    1\n",
              "134    0\n",
              "333    0\n",
              "131    0\n",
              "87     0\n",
              "370    1\n",
              "382    1\n",
              "298    0\n",
              "259    1\n",
              "366    1\n",
              "77     0\n",
              "264    1\n",
              "188    0\n",
              "336    1\n",
              "318    1\n",
              "203    0\n",
              "196    0\n",
              "48     1\n",
              "242    1\n",
              "44     0\n",
              "359    0\n",
              "148    0\n",
              "339    1\n",
              "76     0\n",
              "208    1\n",
              "19     1\n",
              "254    0\n",
              "229    1\n",
              "109    0\n",
              "29     0\n",
              "398    0\n",
              "31     1\n",
              "209    0\n",
              "220    0\n",
              "189    0\n",
              "Name: Purchased, dtype: int64"
            ]
          },
          "execution_count": 24,
          "metadata": {},
          "output_type": "execute_result"
        }
      ],
      "source": [
        "y_test"
      ]
    },
    {
      "cell_type": "markdown",
      "id": "052c1bba",
      "metadata": {
        "id": "052c1bba",
        "papermill": {
          "duration": 0.030302,
          "end_time": "2022-11-03T14:39:29.196184",
          "exception": false,
          "start_time": "2022-11-03T14:39:29.165882",
          "status": "completed"
        },
        "tags": []
      },
      "source": [
        "## **X_train and y_train**"
      ]
    },
    {
      "cell_type": "code",
      "execution_count": null,
      "id": "e1f40bf2",
      "metadata": {
        "execution": {
          "iopub.execute_input": "2022-11-03T14:39:29.258258Z",
          "iopub.status.busy": "2022-11-03T14:39:29.257782Z",
          "iopub.status.idle": "2022-11-03T14:39:29.270900Z",
          "shell.execute_reply": "2022-11-03T14:39:29.269690Z"
        },
        "id": "e1f40bf2",
        "outputId": "458b03f8-2498-4cab-dfc6-beed1079db58",
        "papermill": {
          "duration": 0.047573,
          "end_time": "2022-11-03T14:39:29.273528",
          "exception": false,
          "start_time": "2022-11-03T14:39:29.225955",
          "status": "completed"
        },
        "tags": []
      },
      "outputs": [
        {
          "data": {
            "text/html": [
              "<div>\n",
              "<style scoped>\n",
              "    .dataframe tbody tr th:only-of-type {\n",
              "        vertical-align: middle;\n",
              "    }\n",
              "\n",
              "    .dataframe tbody tr th {\n",
              "        vertical-align: top;\n",
              "    }\n",
              "\n",
              "    .dataframe thead th {\n",
              "        text-align: right;\n",
              "    }\n",
              "</style>\n",
              "<table border=\"1\" class=\"dataframe\">\n",
              "  <thead>\n",
              "    <tr style=\"text-align: right;\">\n",
              "      <th></th>\n",
              "      <th>Gender</th>\n",
              "      <th>Age</th>\n",
              "      <th>EstimatedSalary</th>\n",
              "    </tr>\n",
              "  </thead>\n",
              "  <tbody>\n",
              "    <tr>\n",
              "      <th>101</th>\n",
              "      <td>1</td>\n",
              "      <td>28</td>\n",
              "      <td>59000</td>\n",
              "    </tr>\n",
              "    <tr>\n",
              "      <th>278</th>\n",
              "      <td>2</td>\n",
              "      <td>52</td>\n",
              "      <td>38000</td>\n",
              "    </tr>\n",
              "    <tr>\n",
              "      <th>89</th>\n",
              "      <td>1</td>\n",
              "      <td>35</td>\n",
              "      <td>50000</td>\n",
              "    </tr>\n",
              "    <tr>\n",
              "      <th>59</th>\n",
              "      <td>2</td>\n",
              "      <td>32</td>\n",
              "      <td>117000</td>\n",
              "    </tr>\n",
              "    <tr>\n",
              "      <th>323</th>\n",
              "      <td>2</td>\n",
              "      <td>48</td>\n",
              "      <td>30000</td>\n",
              "    </tr>\n",
              "    <tr>\n",
              "      <th>...</th>\n",
              "      <td>...</td>\n",
              "      <td>...</td>\n",
              "      <td>...</td>\n",
              "    </tr>\n",
              "    <tr>\n",
              "      <th>164</th>\n",
              "      <td>2</td>\n",
              "      <td>33</td>\n",
              "      <td>69000</td>\n",
              "    </tr>\n",
              "    <tr>\n",
              "      <th>288</th>\n",
              "      <td>1</td>\n",
              "      <td>41</td>\n",
              "      <td>79000</td>\n",
              "    </tr>\n",
              "    <tr>\n",
              "      <th>356</th>\n",
              "      <td>1</td>\n",
              "      <td>54</td>\n",
              "      <td>70000</td>\n",
              "    </tr>\n",
              "    <tr>\n",
              "      <th>266</th>\n",
              "      <td>1</td>\n",
              "      <td>40</td>\n",
              "      <td>75000</td>\n",
              "    </tr>\n",
              "    <tr>\n",
              "      <th>328</th>\n",
              "      <td>1</td>\n",
              "      <td>36</td>\n",
              "      <td>118000</td>\n",
              "    </tr>\n",
              "  </tbody>\n",
              "</table>\n",
              "<p>360 rows × 3 columns</p>\n",
              "</div>"
            ],
            "text/plain": [
              "     Gender  Age  EstimatedSalary\n",
              "101       1   28            59000\n",
              "278       2   52            38000\n",
              "89        1   35            50000\n",
              "59        2   32           117000\n",
              "323       2   48            30000\n",
              "..      ...  ...              ...\n",
              "164       2   33            69000\n",
              "288       1   41            79000\n",
              "356       1   54            70000\n",
              "266       1   40            75000\n",
              "328       1   36           118000\n",
              "\n",
              "[360 rows x 3 columns]"
            ]
          },
          "execution_count": 25,
          "metadata": {},
          "output_type": "execute_result"
        }
      ],
      "source": [
        "X_train"
      ]
    },
    {
      "cell_type": "code",
      "execution_count": null,
      "id": "5bd8d8a1",
      "metadata": {
        "execution": {
          "iopub.execute_input": "2022-11-03T14:39:29.337178Z",
          "iopub.status.busy": "2022-11-03T14:39:29.336777Z",
          "iopub.status.idle": "2022-11-03T14:39:29.345408Z",
          "shell.execute_reply": "2022-11-03T14:39:29.343850Z"
        },
        "id": "5bd8d8a1",
        "outputId": "f63f16c9-ae39-4d91-e986-c2b6b8c2858c",
        "papermill": {
          "duration": 0.043148,
          "end_time": "2022-11-03T14:39:29.347974",
          "exception": false,
          "start_time": "2022-11-03T14:39:29.304826",
          "status": "completed"
        },
        "tags": []
      },
      "outputs": [
        {
          "data": {
            "text/plain": [
              "101    0\n",
              "278    1\n",
              "89     0\n",
              "59     0\n",
              "323    1\n",
              "      ..\n",
              "164    0\n",
              "288    0\n",
              "356    1\n",
              "266    0\n",
              "328    1\n",
              "Name: Purchased, Length: 360, dtype: int64"
            ]
          },
          "execution_count": 26,
          "metadata": {},
          "output_type": "execute_result"
        }
      ],
      "source": [
        "y_train"
      ]
    },
    {
      "cell_type": "markdown",
      "id": "c55ffc63",
      "metadata": {
        "id": "c55ffc63",
        "papermill": {
          "duration": 0.030561,
          "end_time": "2022-11-03T14:39:29.409040",
          "exception": false,
          "start_time": "2022-11-03T14:39:29.378479",
          "status": "completed"
        },
        "tags": []
      },
      "source": [
        "# **Decision Tree Classifier**"
      ]
    },
    {
      "cell_type": "code",
      "execution_count": null,
      "id": "3fe3e266",
      "metadata": {
        "execution": {
          "iopub.execute_input": "2022-11-03T14:39:29.471546Z",
          "iopub.status.busy": "2022-11-03T14:39:29.471101Z",
          "iopub.status.idle": "2022-11-03T14:39:29.644038Z",
          "shell.execute_reply": "2022-11-03T14:39:29.642453Z"
        },
        "id": "3fe3e266",
        "outputId": "297bd364-a440-437b-f7b1-0f40a4783b3d",
        "papermill": {
          "duration": 0.207364,
          "end_time": "2022-11-03T14:39:29.646802",
          "exception": false,
          "start_time": "2022-11-03T14:39:29.439438",
          "status": "completed"
        },
        "tags": []
      },
      "outputs": [
        {
          "data": {
            "text/plain": [
              "array([0, 1, 0, 0, 0, 1, 0, 0, 0, 0, 0, 0, 1, 1, 0, 0, 1, 0, 1, 1, 0, 0,\n",
              "       1, 1, 0, 0, 0, 1, 0, 1, 1, 0, 0, 0, 0, 0, 1, 1, 0, 0])"
            ]
          },
          "execution_count": 27,
          "metadata": {},
          "output_type": "execute_result"
        }
      ],
      "source": [
        "from sklearn import tree\n",
        "\n",
        "tr = tree.DecisionTreeClassifier()\n",
        "tr.fit(X_train, y_train)\n",
        "y_pred = tr.predict(X_test)\n",
        "y_pred"
      ]
    },
    {
      "cell_type": "markdown",
      "id": "2fbac73f",
      "metadata": {
        "id": "2fbac73f",
        "papermill": {
          "duration": 0.030592,
          "end_time": "2022-11-03T14:39:29.708992",
          "exception": false,
          "start_time": "2022-11-03T14:39:29.678400",
          "status": "completed"
        },
        "tags": []
      },
      "source": [
        "## **Cross Validation**"
      ]
    },
    {
      "cell_type": "code",
      "execution_count": null,
      "id": "08646ceb",
      "metadata": {
        "execution": {
          "iopub.execute_input": "2022-11-03T14:39:29.772819Z",
          "iopub.status.busy": "2022-11-03T14:39:29.772357Z",
          "iopub.status.idle": "2022-11-03T14:39:29.832542Z",
          "shell.execute_reply": "2022-11-03T14:39:29.831313Z"
        },
        "id": "08646ceb",
        "outputId": "e72015a4-64ba-4c69-bba7-1f428ddb8d2a",
        "papermill": {
          "duration": 0.095282,
          "end_time": "2022-11-03T14:39:29.835210",
          "exception": false,
          "start_time": "2022-11-03T14:39:29.739928",
          "status": "completed"
        },
        "tags": []
      },
      "outputs": [
        {
          "data": {
            "text/plain": [
              "array([0.77777778, 0.83333333, 0.88888889, 0.86111111, 0.88888889,\n",
              "       0.91666667, 0.86111111, 0.72222222, 0.86111111, 0.94444444])"
            ]
          },
          "execution_count": 28,
          "metadata": {},
          "output_type": "execute_result"
        }
      ],
      "source": [
        "from sklearn import model_selection\n",
        "kfold = model_selection.KFold(n_splits = 10)\n",
        "tr = tree.DecisionTreeClassifier()\n",
        "tr.fit(X_train, y_train)\n",
        "results = model_selection.cross_val_score(tr, X_train, y_train, cv = kfold)\n",
        "results"
      ]
    },
    {
      "cell_type": "markdown",
      "id": "6b1db271",
      "metadata": {
        "id": "6b1db271",
        "papermill": {
          "duration": 0.02999,
          "end_time": "2022-11-03T14:39:29.896398",
          "exception": false,
          "start_time": "2022-11-03T14:39:29.866408",
          "status": "completed"
        },
        "tags": []
      },
      "source": [
        "## **Accuracy**"
      ]
    },
    {
      "cell_type": "code",
      "execution_count": null,
      "id": "92af6537",
      "metadata": {
        "execution": {
          "iopub.execute_input": "2022-11-03T14:39:29.959796Z",
          "iopub.status.busy": "2022-11-03T14:39:29.959338Z",
          "iopub.status.idle": "2022-11-03T14:39:29.966583Z",
          "shell.execute_reply": "2022-11-03T14:39:29.965130Z"
        },
        "id": "92af6537",
        "outputId": "54d1e9db-baf8-4fd6-ccd7-daac4c844314",
        "papermill": {
          "duration": 0.042116,
          "end_time": "2022-11-03T14:39:29.969050",
          "exception": false,
          "start_time": "2022-11-03T14:39:29.926934",
          "status": "completed"
        },
        "tags": []
      },
      "outputs": [
        {
          "name": "stdout",
          "output_type": "stream",
          "text": [
            "accuracy_score :  0.825\n"
          ]
        }
      ],
      "source": [
        "from sklearn.metrics import accuracy_score\n",
        "\n",
        "tr_acc = accuracy_score(y_test, y_pred)\n",
        "print('accuracy_score : ', tr_acc)"
      ]
    },
    {
      "cell_type": "code",
      "execution_count": null,
      "id": "a1cbbd1a",
      "metadata": {
        "execution": {
          "iopub.execute_input": "2022-11-03T14:39:30.033316Z",
          "iopub.status.busy": "2022-11-03T14:39:30.032823Z",
          "iopub.status.idle": "2022-11-03T14:39:30.045197Z",
          "shell.execute_reply": "2022-11-03T14:39:30.043470Z"
        },
        "id": "a1cbbd1a",
        "outputId": "96bfa9a1-c71c-4cf2-ea2b-ead02447296d",
        "papermill": {
          "duration": 0.049215,
          "end_time": "2022-11-03T14:39:30.048829",
          "exception": false,
          "start_time": "2022-11-03T14:39:29.999614",
          "status": "completed"
        },
        "tags": []
      },
      "outputs": [
        {
          "name": "stdout",
          "output_type": "stream",
          "text": [
            "Decision Tree Classifier Train Score is :  0.9972222222222222\n",
            "Decision Tree Classifier Test Score is :  0.8\n"
          ]
        }
      ],
      "source": [
        "tr_train_score = tr.score(X_train, y_train)\n",
        "\n",
        "tr_test_score= tr.score(X_test, y_test)\n",
        "\n",
        "\n",
        "print('Decision Tree Classifier Train Score is : ' , tr_train_score)\n",
        "\n",
        "print('Decision Tree Classifier Test Score is : ' , tr_test_score)\n"
      ]
    },
    {
      "cell_type": "code",
      "execution_count": null,
      "id": "fce95a08",
      "metadata": {
        "execution": {
          "iopub.execute_input": "2022-11-03T14:39:30.112493Z",
          "iopub.status.busy": "2022-11-03T14:39:30.112028Z",
          "iopub.status.idle": "2022-11-03T14:39:30.124402Z",
          "shell.execute_reply": "2022-11-03T14:39:30.122808Z"
        },
        "id": "fce95a08",
        "outputId": "a03c508f-db09-4945-947e-a849db7e89b9",
        "papermill": {
          "duration": 0.047002,
          "end_time": "2022-11-03T14:39:30.127200",
          "exception": false,
          "start_time": "2022-11-03T14:39:30.080198",
          "status": "completed"
        },
        "tags": []
      },
      "outputs": [
        {
          "name": "stdout",
          "output_type": "stream",
          "text": [
            "Decision Tree Classifier Predictions: \n",
            " [0 1 0 0 0 1 0 0 0 0 0 0 1 0 0 0 1 0 1 1 0 0 1 1 0 0 0 1 0 1 1 0 0 0 0 0 1\n",
            " 1 0 0] \n",
            " Accuracy: 80.0 %\n"
          ]
        }
      ],
      "source": [
        "from sklearn import  metrics\n",
        "\n",
        "tr_acc = 100*tr.score(X_test, y_test)\n",
        "print('Decision Tree Classifier Predictions: \\n', tr.predict(X_test), '\\n Accuracy:', tr_acc, '%')\n"
      ]
    },
    {
      "cell_type": "markdown",
      "id": "0d343040",
      "metadata": {
        "id": "0d343040",
        "papermill": {
          "duration": 0.032261,
          "end_time": "2022-11-03T14:39:30.190391",
          "exception": false,
          "start_time": "2022-11-03T14:39:30.158130",
          "status": "completed"
        },
        "tags": []
      },
      "source": [
        "## **Classification Report**"
      ]
    },
    {
      "cell_type": "code",
      "execution_count": null,
      "id": "597a9ffd",
      "metadata": {
        "execution": {
          "iopub.execute_input": "2022-11-03T14:39:30.253846Z",
          "iopub.status.busy": "2022-11-03T14:39:30.253367Z",
          "iopub.status.idle": "2022-11-03T14:39:30.266525Z",
          "shell.execute_reply": "2022-11-03T14:39:30.264514Z"
        },
        "id": "597a9ffd",
        "outputId": "96696905-804f-4287-b00c-f4a8a019ab16",
        "papermill": {
          "duration": 0.049317,
          "end_time": "2022-11-03T14:39:30.270423",
          "exception": false,
          "start_time": "2022-11-03T14:39:30.221106",
          "status": "completed"
        },
        "tags": []
      },
      "outputs": [
        {
          "name": "stdout",
          "output_type": "stream",
          "text": [
            "              precision    recall  f1-score   support\n",
            "\n",
            "           0       0.81      0.91      0.86        23\n",
            "           1       0.86      0.71      0.77        17\n",
            "\n",
            "    accuracy                           0.82        40\n",
            "   macro avg       0.83      0.81      0.82        40\n",
            "weighted avg       0.83      0.82      0.82        40\n",
            "\n"
          ]
        }
      ],
      "source": [
        "from sklearn.metrics import classification_report\n",
        "\n",
        "report = classification_report(y_test, y_pred)\n",
        "print(report)"
      ]
    },
    {
      "cell_type": "markdown",
      "id": "1162421a",
      "metadata": {
        "id": "1162421a",
        "papermill": {
          "duration": 0.032088,
          "end_time": "2022-11-03T14:39:30.335037",
          "exception": false,
          "start_time": "2022-11-03T14:39:30.302949",
          "status": "completed"
        },
        "tags": []
      },
      "source": [
        "## **Confusion Matrix**"
      ]
    },
    {
      "cell_type": "code",
      "execution_count": null,
      "id": "72912d5e",
      "metadata": {
        "execution": {
          "iopub.execute_input": "2022-11-03T14:39:30.399426Z",
          "iopub.status.busy": "2022-11-03T14:39:30.398969Z",
          "iopub.status.idle": "2022-11-03T14:39:30.407322Z",
          "shell.execute_reply": "2022-11-03T14:39:30.405990Z"
        },
        "id": "72912d5e",
        "outputId": "197dbf2b-8105-4b3d-f382-35f5080f96b9",
        "papermill": {
          "duration": 0.044632,
          "end_time": "2022-11-03T14:39:30.410781",
          "exception": false,
          "start_time": "2022-11-03T14:39:30.366149",
          "status": "completed"
        },
        "tags": []
      },
      "outputs": [
        {
          "name": "stdout",
          "output_type": "stream",
          "text": [
            "[[21  2]\n",
            " [ 5 12]]\n"
          ]
        }
      ],
      "source": [
        "from sklearn.metrics import confusion_matrix\n",
        "print(confusion_matrix(y_test, y_pred))"
      ]
    },
    {
      "cell_type": "code",
      "execution_count": null,
      "id": "2bda9979",
      "metadata": {
        "execution": {
          "iopub.execute_input": "2022-11-03T14:39:30.476683Z",
          "iopub.status.busy": "2022-11-03T14:39:30.476269Z",
          "iopub.status.idle": "2022-11-03T14:39:30.731566Z",
          "shell.execute_reply": "2022-11-03T14:39:30.730614Z"
        },
        "id": "2bda9979",
        "papermill": {
          "duration": 0.290395,
          "end_time": "2022-11-03T14:39:30.733867",
          "exception": false,
          "start_time": "2022-11-03T14:39:30.443472",
          "status": "completed"
        },
        "tags": [],
        "outputId": "b740e72b-4ce2-40de-b9f3-2151b97d93e2"
      },
      "outputs": [
        {
          "data": {
            "image/png": "[encoded data removed]",
            "text/plain": [
              "<Figure size 432x288 with 2 Axes>"
            ]
          },
          "metadata": {
            "needs_background": "light"
          },
          "output_type": "display_data"
        },
        {
          "data": {
            "text/plain": [
              "<Figure size 720x576 with 0 Axes>"
            ]
          },
          "metadata": {},
          "output_type": "display_data"
        }
      ],
      "source": [
        "from sklearn.metrics import plot_confusion_matrix\n",
        "\n",
        "plot_confusion_matrix(tr, X_test, y_test, cmap=plt.cm.Blues)  \n",
        "plt.figure(figsize = (10,8))\n",
        "plt.show()"
      ]
    },
    {
      "cell_type": "markdown",
      "id": "bf9993cc",
      "metadata": {
        "id": "bf9993cc",
        "papermill": {
          "duration": 0.031045,
          "end_time": "2022-11-03T14:39:30.797258",
          "exception": false,
          "start_time": "2022-11-03T14:39:30.766213",
          "status": "completed"
        },
        "tags": []
      },
      "source": [
        "## **Predicting New Data**"
      ]
    },
    {
      "cell_type": "code",
      "execution_count": null,
      "id": "91cd3544",
      "metadata": {
        "execution": {
          "iopub.execute_input": "2022-11-03T14:39:30.872951Z",
          "iopub.status.busy": "2022-11-03T14:39:30.871690Z",
          "iopub.status.idle": "2022-11-03T14:39:30.877878Z",
          "shell.execute_reply": "2022-11-03T14:39:30.876801Z"
        },
        "id": "91cd3544",
        "papermill": {
          "duration": 0.052881,
          "end_time": "2022-11-03T14:39:30.881426",
          "exception": false,
          "start_time": "2022-11-03T14:39:30.828545",
          "status": "completed"
        },
        "tags": []
      },
      "outputs": [],
      "source": [
        "New_Buyer = [[2, 30, 35000]]"
      ]
    },
    {
      "cell_type": "code",
      "execution_count": null,
      "id": "13e30bdc",
      "metadata": {
        "execution": {
          "iopub.execute_input": "2022-11-03T14:39:30.966431Z",
          "iopub.status.busy": "2022-11-03T14:39:30.965061Z",
          "iopub.status.idle": "2022-11-03T14:39:30.974438Z",
          "shell.execute_reply": "2022-11-03T14:39:30.972732Z"
        },
        "id": "13e30bdc",
        "outputId": "d1284078-61b7-42b6-8cdf-58878862c6eb",
        "papermill": {
          "duration": 0.053366,
          "end_time": "2022-11-03T14:39:30.977190",
          "exception": false,
          "start_time": "2022-11-03T14:39:30.923824",
          "status": "completed"
        },
        "tags": []
      },
      "outputs": [
        {
          "data": {
            "text/plain": [
              "array([0])"
            ]
          },
          "execution_count": 36,
          "metadata": {},
          "output_type": "execute_result"
        }
      ],
      "source": [
        "tr.predict(New_Buyer)"
      ]
    },
    {
      "cell_type": "markdown",
      "id": "186a8885",
      "metadata": {
        "id": "186a8885",
        "papermill": {
          "duration": 0.032384,
          "end_time": "2022-11-03T14:39:31.042502",
          "exception": false,
          "start_time": "2022-11-03T14:39:31.010118",
          "status": "completed"
        },
        "tags": []
      },
      "source": [
        "## **Cross Check**"
      ]
    },
    {
      "cell_type": "code",
      "execution_count": null,
      "id": "fd345b88",
      "metadata": {
        "execution": {
          "iopub.execute_input": "2022-11-03T14:39:31.109167Z",
          "iopub.status.busy": "2022-11-03T14:39:31.108163Z",
          "iopub.status.idle": "2022-11-03T14:39:31.120843Z",
          "shell.execute_reply": "2022-11-03T14:39:31.119567Z"
        },
        "id": "fd345b88",
        "papermill": {
          "duration": 0.048882,
          "end_time": "2022-11-03T14:39:31.123309",
          "exception": false,
          "start_time": "2022-11-03T14:39:31.074427",
          "status": "completed"
        },
        "tags": [],
        "outputId": "9ad3e788-ac46-479c-a844-5a130a9f8579"
      },
      "outputs": [
        {
          "data": {
            "text/html": [
              "<div>\n",
              "<style scoped>\n",
              "    .dataframe tbody tr th:only-of-type {\n",
              "        vertical-align: middle;\n",
              "    }\n",
              "\n",
              "    .dataframe tbody tr th {\n",
              "        vertical-align: top;\n",
              "    }\n",
              "\n",
              "    .dataframe thead th {\n",
              "        text-align: right;\n",
              "    }\n",
              "</style>\n",
              "<table border=\"1\" class=\"dataframe\">\n",
              "  <thead>\n",
              "    <tr style=\"text-align: right;\">\n",
              "      <th></th>\n",
              "      <th>Actual</th>\n",
              "      <th>Predicted</th>\n",
              "    </tr>\n",
              "  </thead>\n",
              "  <tbody>\n",
              "    <tr>\n",
              "      <th>315</th>\n",
              "      <td>1</td>\n",
              "      <td>0</td>\n",
              "    </tr>\n",
              "    <tr>\n",
              "      <th>331</th>\n",
              "      <td>1</td>\n",
              "      <td>1</td>\n",
              "    </tr>\n",
              "    <tr>\n",
              "      <th>195</th>\n",
              "      <td>0</td>\n",
              "      <td>0</td>\n",
              "    </tr>\n",
              "    <tr>\n",
              "      <th>110</th>\n",
              "      <td>0</td>\n",
              "      <td>0</td>\n",
              "    </tr>\n",
              "    <tr>\n",
              "      <th>47</th>\n",
              "      <td>0</td>\n",
              "      <td>0</td>\n",
              "    </tr>\n",
              "    <tr>\n",
              "      <th>285</th>\n",
              "      <td>1</td>\n",
              "      <td>1</td>\n",
              "    </tr>\n",
              "    <tr>\n",
              "      <th>134</th>\n",
              "      <td>0</td>\n",
              "      <td>0</td>\n",
              "    </tr>\n",
              "    <tr>\n",
              "      <th>333</th>\n",
              "      <td>0</td>\n",
              "      <td>0</td>\n",
              "    </tr>\n",
              "    <tr>\n",
              "      <th>131</th>\n",
              "      <td>0</td>\n",
              "      <td>0</td>\n",
              "    </tr>\n",
              "    <tr>\n",
              "      <th>87</th>\n",
              "      <td>0</td>\n",
              "      <td>0</td>\n",
              "    </tr>\n",
              "    <tr>\n",
              "      <th>370</th>\n",
              "      <td>1</td>\n",
              "      <td>0</td>\n",
              "    </tr>\n",
              "    <tr>\n",
              "      <th>382</th>\n",
              "      <td>1</td>\n",
              "      <td>0</td>\n",
              "    </tr>\n",
              "    <tr>\n",
              "      <th>298</th>\n",
              "      <td>0</td>\n",
              "      <td>1</td>\n",
              "    </tr>\n",
              "    <tr>\n",
              "      <th>259</th>\n",
              "      <td>1</td>\n",
              "      <td>1</td>\n",
              "    </tr>\n",
              "    <tr>\n",
              "      <th>366</th>\n",
              "      <td>1</td>\n",
              "      <td>0</td>\n",
              "    </tr>\n",
              "    <tr>\n",
              "      <th>77</th>\n",
              "      <td>0</td>\n",
              "      <td>0</td>\n",
              "    </tr>\n",
              "    <tr>\n",
              "      <th>264</th>\n",
              "      <td>1</td>\n",
              "      <td>1</td>\n",
              "    </tr>\n",
              "    <tr>\n",
              "      <th>188</th>\n",
              "      <td>0</td>\n",
              "      <td>0</td>\n",
              "    </tr>\n",
              "    <tr>\n",
              "      <th>336</th>\n",
              "      <td>1</td>\n",
              "      <td>1</td>\n",
              "    </tr>\n",
              "    <tr>\n",
              "      <th>318</th>\n",
              "      <td>1</td>\n",
              "      <td>1</td>\n",
              "    </tr>\n",
              "    <tr>\n",
              "      <th>203</th>\n",
              "      <td>0</td>\n",
              "      <td>0</td>\n",
              "    </tr>\n",
              "    <tr>\n",
              "      <th>196</th>\n",
              "      <td>0</td>\n",
              "      <td>0</td>\n",
              "    </tr>\n",
              "    <tr>\n",
              "      <th>48</th>\n",
              "      <td>1</td>\n",
              "      <td>1</td>\n",
              "    </tr>\n",
              "    <tr>\n",
              "      <th>242</th>\n",
              "      <td>1</td>\n",
              "      <td>1</td>\n",
              "    </tr>\n",
              "    <tr>\n",
              "      <th>44</th>\n",
              "      <td>0</td>\n",
              "      <td>0</td>\n",
              "    </tr>\n",
              "    <tr>\n",
              "      <th>359</th>\n",
              "      <td>0</td>\n",
              "      <td>0</td>\n",
              "    </tr>\n",
              "    <tr>\n",
              "      <th>148</th>\n",
              "      <td>0</td>\n",
              "      <td>0</td>\n",
              "    </tr>\n",
              "    <tr>\n",
              "      <th>339</th>\n",
              "      <td>1</td>\n",
              "      <td>1</td>\n",
              "    </tr>\n",
              "    <tr>\n",
              "      <th>76</th>\n",
              "      <td>0</td>\n",
              "      <td>0</td>\n",
              "    </tr>\n",
              "    <tr>\n",
              "      <th>208</th>\n",
              "      <td>1</td>\n",
              "      <td>1</td>\n",
              "    </tr>\n",
              "    <tr>\n",
              "      <th>19</th>\n",
              "      <td>1</td>\n",
              "      <td>1</td>\n",
              "    </tr>\n",
              "    <tr>\n",
              "      <th>254</th>\n",
              "      <td>0</td>\n",
              "      <td>0</td>\n",
              "    </tr>\n",
              "    <tr>\n",
              "      <th>229</th>\n",
              "      <td>1</td>\n",
              "      <td>0</td>\n",
              "    </tr>\n",
              "    <tr>\n",
              "      <th>109</th>\n",
              "      <td>0</td>\n",
              "      <td>0</td>\n",
              "    </tr>\n",
              "    <tr>\n",
              "      <th>29</th>\n",
              "      <td>0</td>\n",
              "      <td>0</td>\n",
              "    </tr>\n",
              "    <tr>\n",
              "      <th>398</th>\n",
              "      <td>0</td>\n",
              "      <td>0</td>\n",
              "    </tr>\n",
              "    <tr>\n",
              "      <th>31</th>\n",
              "      <td>1</td>\n",
              "      <td>1</td>\n",
              "    </tr>\n",
              "    <tr>\n",
              "      <th>209</th>\n",
              "      <td>0</td>\n",
              "      <td>1</td>\n",
              "    </tr>\n",
              "    <tr>\n",
              "      <th>220</th>\n",
              "      <td>0</td>\n",
              "      <td>0</td>\n",
              "    </tr>\n",
              "    <tr>\n",
              "      <th>189</th>\n",
              "      <td>0</td>\n",
              "      <td>0</td>\n",
              "    </tr>\n",
              "  </tbody>\n",
              "</table>\n",
              "</div>"
            ],
            "text/plain": [
              "     Actual  Predicted\n",
              "315       1          0\n",
              "331       1          1\n",
              "195       0          0\n",
              "110       0          0\n",
              "47        0          0\n",
              "285       1          1\n",
              "134       0          0\n",
              "333       0          0\n",
              "131       0          0\n",
              "87        0          0\n",
              "370       1          0\n",
              "382       1          0\n",
              "298       0          1\n",
              "259       1          1\n",
              "366       1          0\n",
              "77        0          0\n",
              "264       1          1\n",
              "188       0          0\n",
              "336       1          1\n",
              "318       1          1\n",
              "203       0          0\n",
              "196       0          0\n",
              "48        1          1\n",
              "242       1          1\n",
              "44        0          0\n",
              "359       0          0\n",
              "148       0          0\n",
              "339       1          1\n",
              "76        0          0\n",
              "208       1          1\n",
              "19        1          1\n",
              "254       0          0\n",
              "229       1          0\n",
              "109       0          0\n",
              "29        0          0\n",
              "398       0          0\n",
              "31        1          1\n",
              "209       0          1\n",
              "220       0          0\n",
              "189       0          0"
            ]
          },
          "execution_count": 37,
          "metadata": {},
          "output_type": "execute_result"
        }
      ],
      "source": [
        "cross_check = pd.DataFrame({'Actual' : y_test, 'Predicted' : y_pred})\n",
        "cross_check"
      ]
    },
    {
      "cell_type": "markdown",
      "id": "2e814291",
      "metadata": {
        "id": "2e814291",
        "papermill": {
          "duration": 0.032144,
          "end_time": "2022-11-03T14:39:31.187717",
          "exception": false,
          "start_time": "2022-11-03T14:39:31.155573",
          "status": "completed"
        },
        "tags": []
      },
      "source": [
        "# **Random Forest Classifier**"
      ]
    },
    {
      "cell_type": "code",
      "execution_count": null,
      "id": "10055780",
      "metadata": {
        "execution": {
          "iopub.execute_input": "2022-11-03T14:39:31.255019Z",
          "iopub.status.busy": "2022-11-03T14:39:31.254140Z",
          "iopub.status.idle": "2022-11-03T14:39:31.502295Z",
          "shell.execute_reply": "2022-11-03T14:39:31.500560Z"
        },
        "id": "10055780",
        "outputId": "95b8d291-ee92-4c79-99eb-bc543edcce4b",
        "papermill": {
          "duration": 0.284399,
          "end_time": "2022-11-03T14:39:31.505078",
          "exception": false,
          "start_time": "2022-11-03T14:39:31.220679",
          "status": "completed"
        },
        "tags": []
      },
      "outputs": [
        {
          "data": {
            "text/plain": [
              "array([0, 1, 0, 0, 0, 1, 0, 0, 0, 0, 1, 1, 1, 0, 1, 0, 1, 0, 1, 1, 0, 0,\n",
              "       1, 1, 0, 0, 0, 1, 0, 1, 1, 1, 0, 0, 0, 0, 1, 1, 0, 0])"
            ]
          },
          "execution_count": 38,
          "metadata": {},
          "output_type": "execute_result"
        }
      ],
      "source": [
        "from sklearn.ensemble import RandomForestClassifier\n",
        "\n",
        "rf = RandomForestClassifier(n_estimators = 100)\n",
        "rf.fit(X_train, y_train)\n",
        "y_pred = rf.predict(X_test)\n",
        "y_pred"
      ]
    },
    {
      "cell_type": "markdown",
      "id": "0496de96",
      "metadata": {
        "id": "0496de96",
        "papermill": {
          "duration": 0.032018,
          "end_time": "2022-11-03T14:39:31.571204",
          "exception": false,
          "start_time": "2022-11-03T14:39:31.539186",
          "status": "completed"
        },
        "tags": []
      },
      "source": [
        "## **Cross Validation**"
      ]
    },
    {
      "cell_type": "code",
      "execution_count": null,
      "id": "89f4c139",
      "metadata": {
        "execution": {
          "iopub.execute_input": "2022-11-03T14:39:31.640910Z",
          "iopub.status.busy": "2022-11-03T14:39:31.640466Z",
          "iopub.status.idle": "2022-11-03T14:39:33.598394Z",
          "shell.execute_reply": "2022-11-03T14:39:33.597122Z"
        },
        "id": "89f4c139",
        "outputId": "9e3e53e2-726c-48fc-cee5-984e6726229c",
        "papermill": {
          "duration": 1.996918,
          "end_time": "2022-11-03T14:39:33.601121",
          "exception": false,
          "start_time": "2022-11-03T14:39:31.604203",
          "status": "completed"
        },
        "tags": []
      },
      "outputs": [
        {
          "data": {
            "text/plain": [
              "array([0.88888889, 0.83333333, 0.94444444, 0.88888889, 0.88888889,\n",
              "       0.97222222, 0.88888889, 0.83333333, 0.83333333, 0.97222222])"
            ]
          },
          "execution_count": 39,
          "metadata": {},
          "output_type": "execute_result"
        }
      ],
      "source": [
        "from sklearn import model_selection\n",
        "kfold = model_selection.KFold(n_splits = 10)\n",
        "rf = RandomForestClassifier(n_estimators = 100)\n",
        "rf.fit(X_train, y_train)\n",
        "results = model_selection.cross_val_score(rf, X_train, y_train, cv = kfold)\n",
        "results"
      ]
    },
    {
      "cell_type": "markdown",
      "id": "fc8814ef",
      "metadata": {
        "id": "fc8814ef",
        "papermill": {
          "duration": 0.032955,
          "end_time": "2022-11-03T14:39:33.668778",
          "exception": false,
          "start_time": "2022-11-03T14:39:33.635823",
          "status": "completed"
        },
        "tags": []
      },
      "source": [
        "## **Accuracy**"
      ]
    },
    {
      "cell_type": "code",
      "execution_count": null,
      "id": "9052c9c1",
      "metadata": {
        "execution": {
          "iopub.execute_input": "2022-11-03T14:39:33.735323Z",
          "iopub.status.busy": "2022-11-03T14:39:33.734849Z",
          "iopub.status.idle": "2022-11-03T14:39:33.741837Z",
          "shell.execute_reply": "2022-11-03T14:39:33.740627Z"
        },
        "id": "9052c9c1",
        "outputId": "54e55690-c8d7-413c-9e22-76b88cc0acf5",
        "papermill": {
          "duration": 0.042931,
          "end_time": "2022-11-03T14:39:33.744182",
          "exception": false,
          "start_time": "2022-11-03T14:39:33.701251",
          "status": "completed"
        },
        "tags": []
      },
      "outputs": [
        {
          "name": "stdout",
          "output_type": "stream",
          "text": [
            "accuracy_score:  0.85\n"
          ]
        }
      ],
      "source": [
        "from sklearn.metrics import accuracy_score\n",
        "\n",
        "rf_acc = accuracy_score(y_test, y_pred)\n",
        "print(\"accuracy_score: \", rf_acc)\n"
      ]
    },
    {
      "cell_type": "code",
      "execution_count": null,
      "id": "6662ac1b",
      "metadata": {
        "execution": {
          "iopub.execute_input": "2022-11-03T14:39:33.812403Z",
          "iopub.status.busy": "2022-11-03T14:39:33.811910Z",
          "iopub.status.idle": "2022-11-03T14:39:33.854244Z",
          "shell.execute_reply": "2022-11-03T14:39:33.852874Z"
        },
        "id": "6662ac1b",
        "outputId": "b028cd3c-afee-40ff-9e51-882acad82ab6",
        "papermill": {
          "duration": 0.080551,
          "end_time": "2022-11-03T14:39:33.857545",
          "exception": false,
          "start_time": "2022-11-03T14:39:33.776994",
          "status": "completed"
        },
        "tags": []
      },
      "outputs": [
        {
          "name": "stdout",
          "output_type": "stream",
          "text": [
            "Random Forest Classifier Train Score is :  0.9972222222222222\n",
            "Random Forest Classifier Test Score is :  0.875\n"
          ]
        }
      ],
      "source": [
        "rf_train_score = rf.score(X_train, y_train)\n",
        "\n",
        "rf_test_score= rf.score(X_test, y_test)\n",
        "\n",
        "\n",
        "print('Random Forest Classifier Train Score is : ' , rf_train_score)\n",
        "\n",
        "print('Random Forest Classifier Test Score is : ' , rf_test_score)"
      ]
    },
    {
      "cell_type": "code",
      "execution_count": null,
      "id": "157f46bc",
      "metadata": {
        "execution": {
          "iopub.execute_input": "2022-11-03T14:39:33.925036Z",
          "iopub.status.busy": "2022-11-03T14:39:33.924593Z",
          "iopub.status.idle": "2022-11-03T14:39:33.963647Z",
          "shell.execute_reply": "2022-11-03T14:39:33.962056Z"
        },
        "id": "157f46bc",
        "outputId": "9fecf37e-5559-4f7d-e02b-5441ae6ca0fc",
        "papermill": {
          "duration": 0.075647,
          "end_time": "2022-11-03T14:39:33.966621",
          "exception": false,
          "start_time": "2022-11-03T14:39:33.890974",
          "status": "completed"
        },
        "tags": []
      },
      "outputs": [
        {
          "name": "stdout",
          "output_type": "stream",
          "text": [
            "Random Forest Classifier Predictions : \n",
            " [0 1 0 0 0 1 0 0 0 0 1 1 1 1 1 0 1 0 1 1 0 0 1 1 0 0 0 1 0 1 1 1 0 0 0 0 1\n",
            " 1 0 0] \n",
            " Accuracy: 87.5 %\n"
          ]
        }
      ],
      "source": [
        "from sklearn import  metrics\n",
        "\n",
        "rf_acc = 100*rf.score(X_test, y_test)\n",
        "print('Random Forest Classifier Predictions : \\n', rf.predict(X_test), '\\n Accuracy:', rf_acc, '%')\n",
        "\n"
      ]
    },
    {
      "cell_type": "markdown",
      "id": "c1f80a35",
      "metadata": {
        "id": "c1f80a35",
        "papermill": {
          "duration": 0.034488,
          "end_time": "2022-11-03T14:39:34.036469",
          "exception": false,
          "start_time": "2022-11-03T14:39:34.001981",
          "status": "completed"
        },
        "tags": []
      },
      "source": [
        "## **Classification Report**"
      ]
    },
    {
      "cell_type": "code",
      "execution_count": null,
      "id": "4b8614f3",
      "metadata": {
        "execution": {
          "iopub.execute_input": "2022-11-03T14:39:34.108399Z",
          "iopub.status.busy": "2022-11-03T14:39:34.107915Z",
          "iopub.status.idle": "2022-11-03T14:39:34.120942Z",
          "shell.execute_reply": "2022-11-03T14:39:34.119784Z"
        },
        "id": "4b8614f3",
        "outputId": "ef72f503-6a6a-45f3-b658-5b37fac4260f",
        "papermill": {
          "duration": 0.053094,
          "end_time": "2022-11-03T14:39:34.124352",
          "exception": false,
          "start_time": "2022-11-03T14:39:34.071258",
          "status": "completed"
        },
        "tags": []
      },
      "outputs": [
        {
          "name": "stdout",
          "output_type": "stream",
          "text": [
            "              precision    recall  f1-score   support\n",
            "\n",
            "           0       0.87      0.87      0.87        23\n",
            "           1       0.82      0.82      0.82        17\n",
            "\n",
            "    accuracy                           0.85        40\n",
            "   macro avg       0.85      0.85      0.85        40\n",
            "weighted avg       0.85      0.85      0.85        40\n",
            "\n"
          ]
        }
      ],
      "source": [
        "from sklearn.metrics import classification_report\n",
        "print(classification_report(y_test, y_pred))"
      ]
    },
    {
      "cell_type": "markdown",
      "id": "7bfbf098",
      "metadata": {
        "id": "7bfbf098",
        "papermill": {
          "duration": 0.033412,
          "end_time": "2022-11-03T14:39:34.191804",
          "exception": false,
          "start_time": "2022-11-03T14:39:34.158392",
          "status": "completed"
        },
        "tags": []
      },
      "source": [
        "## **Confusion Matrix**"
      ]
    },
    {
      "cell_type": "code",
      "execution_count": null,
      "id": "93b0079a",
      "metadata": {
        "execution": {
          "iopub.execute_input": "2022-11-03T14:39:34.258073Z",
          "iopub.status.busy": "2022-11-03T14:39:34.257647Z",
          "iopub.status.idle": "2022-11-03T14:39:34.264418Z",
          "shell.execute_reply": "2022-11-03T14:39:34.263338Z"
        },
        "id": "93b0079a",
        "outputId": "07c3f907-9940-4065-a551-127fbc70f1cf",
        "papermill": {
          "duration": 0.043404,
          "end_time": "2022-11-03T14:39:34.267544",
          "exception": false,
          "start_time": "2022-11-03T14:39:34.224140",
          "status": "completed"
        },
        "tags": []
      },
      "outputs": [
        {
          "name": "stdout",
          "output_type": "stream",
          "text": [
            "[[20  3]\n",
            " [ 3 14]]\n"
          ]
        }
      ],
      "source": [
        "from sklearn.metrics import confusion_matrix\n",
        "print(confusion_matrix(y_test, y_pred))"
      ]
    },
    {
      "cell_type": "code",
      "execution_count": null,
      "id": "bf04cea9",
      "metadata": {
        "execution": {
          "iopub.execute_input": "2022-11-03T14:39:34.340263Z",
          "iopub.status.busy": "2022-11-03T14:39:34.339201Z",
          "iopub.status.idle": "2022-11-03T14:39:34.604820Z",
          "shell.execute_reply": "2022-11-03T14:39:34.603693Z"
        },
        "id": "bf04cea9",
        "papermill": {
          "duration": 0.304569,
          "end_time": "2022-11-03T14:39:34.607392",
          "exception": false,
          "start_time": "2022-11-03T14:39:34.302823",
          "status": "completed"
        },
        "tags": [],
        "outputId": "1f2abb22-6514-4872-bf6c-5b2f73166b34"
      },
      "outputs": [
        {
          "data": {
            "image/png": "[encoded data removed]",
            "text/plain": [
              "<Figure size 432x288 with 2 Axes>"
            ]
          },
          "metadata": {
            "needs_background": "light"
          },
          "output_type": "display_data"
        },
        {
          "data": {
            "text/plain": [
              "<Figure size 720x576 with 0 Axes>"
            ]
          },
          "metadata": {},
          "output_type": "display_data"
        }
      ],
      "source": [
        "from sklearn.metrics import plot_confusion_matrix\n",
        "plot_confusion_matrix(rf, X_test, y_test, cmap=plt.cm.Blues)  \n",
        "plt.figure(figsize = (10,8))\n",
        "plt.show()"
      ]
    },
    {
      "cell_type": "markdown",
      "id": "99c73536",
      "metadata": {
        "id": "99c73536",
        "papermill": {
          "duration": 0.032483,
          "end_time": "2022-11-03T14:39:34.673238",
          "exception": false,
          "start_time": "2022-11-03T14:39:34.640755",
          "status": "completed"
        },
        "tags": []
      },
      "source": [
        "## **Predicting New Data**"
      ]
    },
    {
      "cell_type": "code",
      "execution_count": null,
      "id": "96743108",
      "metadata": {
        "execution": {
          "iopub.execute_input": "2022-11-03T14:39:34.741489Z",
          "iopub.status.busy": "2022-11-03T14:39:34.741016Z",
          "iopub.status.idle": "2022-11-03T14:39:34.746722Z",
          "shell.execute_reply": "2022-11-03T14:39:34.745261Z"
        },
        "id": "96743108",
        "papermill": {
          "duration": 0.042684,
          "end_time": "2022-11-03T14:39:34.749336",
          "exception": false,
          "start_time": "2022-11-03T14:39:34.706652",
          "status": "completed"
        },
        "tags": []
      },
      "outputs": [],
      "source": [
        "New_Buyer = [[1, 42, 150000]]"
      ]
    },
    {
      "cell_type": "code",
      "execution_count": null,
      "id": "1be9bb09",
      "metadata": {
        "execution": {
          "iopub.execute_input": "2022-11-03T14:39:34.817407Z",
          "iopub.status.busy": "2022-11-03T14:39:34.816960Z",
          "iopub.status.idle": "2022-11-03T14:39:34.839368Z",
          "shell.execute_reply": "2022-11-03T14:39:34.838485Z"
        },
        "id": "1be9bb09",
        "outputId": "7d894809-5cd7-479c-a96b-cc924f605019",
        "papermill": {
          "duration": 0.059887,
          "end_time": "2022-11-03T14:39:34.841950",
          "exception": false,
          "start_time": "2022-11-03T14:39:34.782063",
          "status": "completed"
        },
        "tags": []
      },
      "outputs": [
        {
          "data": {
            "text/plain": [
              "array([1])"
            ]
          },
          "execution_count": 47,
          "metadata": {},
          "output_type": "execute_result"
        }
      ],
      "source": [
        "rf.predict(New_Buyer)"
      ]
    },
    {
      "cell_type": "markdown",
      "id": "33084772",
      "metadata": {
        "id": "33084772",
        "papermill": {
          "duration": 0.033223,
          "end_time": "2022-11-03T14:39:34.910773",
          "exception": false,
          "start_time": "2022-11-03T14:39:34.877550",
          "status": "completed"
        },
        "tags": []
      },
      "source": [
        "## **Cross Check**"
      ]
    },
    {
      "cell_type": "code",
      "execution_count": null,
      "id": "3771e137",
      "metadata": {
        "execution": {
          "iopub.execute_input": "2022-11-03T14:39:34.979650Z",
          "iopub.status.busy": "2022-11-03T14:39:34.979185Z",
          "iopub.status.idle": "2022-11-03T14:39:34.993193Z",
          "shell.execute_reply": "2022-11-03T14:39:34.991520Z"
        },
        "id": "3771e137",
        "outputId": "3f267452-7269-48cb-e977-f0b516044f61",
        "papermill": {
          "duration": 0.051825,
          "end_time": "2022-11-03T14:39:34.996172",
          "exception": false,
          "start_time": "2022-11-03T14:39:34.944347",
          "status": "completed"
        },
        "tags": []
      },
      "outputs": [
        {
          "data": {
            "text/html": [
              "<div>\n",
              "<style scoped>\n",
              "    .dataframe tbody tr th:only-of-type {\n",
              "        vertical-align: middle;\n",
              "    }\n",
              "\n",
              "    .dataframe tbody tr th {\n",
              "        vertical-align: top;\n",
              "    }\n",
              "\n",
              "    .dataframe thead th {\n",
              "        text-align: right;\n",
              "    }\n",
              "</style>\n",
              "<table border=\"1\" class=\"dataframe\">\n",
              "  <thead>\n",
              "    <tr style=\"text-align: right;\">\n",
              "      <th></th>\n",
              "      <th>Actual</th>\n",
              "      <th>Predicted</th>\n",
              "    </tr>\n",
              "  </thead>\n",
              "  <tbody>\n",
              "    <tr>\n",
              "      <th>315</th>\n",
              "      <td>1</td>\n",
              "      <td>0</td>\n",
              "    </tr>\n",
              "    <tr>\n",
              "      <th>331</th>\n",
              "      <td>1</td>\n",
              "      <td>1</td>\n",
              "    </tr>\n",
              "    <tr>\n",
              "      <th>195</th>\n",
              "      <td>0</td>\n",
              "      <td>0</td>\n",
              "    </tr>\n",
              "    <tr>\n",
              "      <th>110</th>\n",
              "      <td>0</td>\n",
              "      <td>0</td>\n",
              "    </tr>\n",
              "    <tr>\n",
              "      <th>47</th>\n",
              "      <td>0</td>\n",
              "      <td>0</td>\n",
              "    </tr>\n",
              "    <tr>\n",
              "      <th>285</th>\n",
              "      <td>1</td>\n",
              "      <td>1</td>\n",
              "    </tr>\n",
              "    <tr>\n",
              "      <th>134</th>\n",
              "      <td>0</td>\n",
              "      <td>0</td>\n",
              "    </tr>\n",
              "    <tr>\n",
              "      <th>333</th>\n",
              "      <td>0</td>\n",
              "      <td>0</td>\n",
              "    </tr>\n",
              "    <tr>\n",
              "      <th>131</th>\n",
              "      <td>0</td>\n",
              "      <td>0</td>\n",
              "    </tr>\n",
              "    <tr>\n",
              "      <th>87</th>\n",
              "      <td>0</td>\n",
              "      <td>0</td>\n",
              "    </tr>\n",
              "    <tr>\n",
              "      <th>370</th>\n",
              "      <td>1</td>\n",
              "      <td>1</td>\n",
              "    </tr>\n",
              "    <tr>\n",
              "      <th>382</th>\n",
              "      <td>1</td>\n",
              "      <td>1</td>\n",
              "    </tr>\n",
              "    <tr>\n",
              "      <th>298</th>\n",
              "      <td>0</td>\n",
              "      <td>1</td>\n",
              "    </tr>\n",
              "    <tr>\n",
              "      <th>259</th>\n",
              "      <td>1</td>\n",
              "      <td>0</td>\n",
              "    </tr>\n",
              "    <tr>\n",
              "      <th>366</th>\n",
              "      <td>1</td>\n",
              "      <td>1</td>\n",
              "    </tr>\n",
              "    <tr>\n",
              "      <th>77</th>\n",
              "      <td>0</td>\n",
              "      <td>0</td>\n",
              "    </tr>\n",
              "    <tr>\n",
              "      <th>264</th>\n",
              "      <td>1</td>\n",
              "      <td>1</td>\n",
              "    </tr>\n",
              "    <tr>\n",
              "      <th>188</th>\n",
              "      <td>0</td>\n",
              "      <td>0</td>\n",
              "    </tr>\n",
              "    <tr>\n",
              "      <th>336</th>\n",
              "      <td>1</td>\n",
              "      <td>1</td>\n",
              "    </tr>\n",
              "    <tr>\n",
              "      <th>318</th>\n",
              "      <td>1</td>\n",
              "      <td>1</td>\n",
              "    </tr>\n",
              "    <tr>\n",
              "      <th>203</th>\n",
              "      <td>0</td>\n",
              "      <td>0</td>\n",
              "    </tr>\n",
              "    <tr>\n",
              "      <th>196</th>\n",
              "      <td>0</td>\n",
              "      <td>0</td>\n",
              "    </tr>\n",
              "    <tr>\n",
              "      <th>48</th>\n",
              "      <td>1</td>\n",
              "      <td>1</td>\n",
              "    </tr>\n",
              "    <tr>\n",
              "      <th>242</th>\n",
              "      <td>1</td>\n",
              "      <td>1</td>\n",
              "    </tr>\n",
              "    <tr>\n",
              "      <th>44</th>\n",
              "      <td>0</td>\n",
              "      <td>0</td>\n",
              "    </tr>\n",
              "    <tr>\n",
              "      <th>359</th>\n",
              "      <td>0</td>\n",
              "      <td>0</td>\n",
              "    </tr>\n",
              "    <tr>\n",
              "      <th>148</th>\n",
              "      <td>0</td>\n",
              "      <td>0</td>\n",
              "    </tr>\n",
              "    <tr>\n",
              "      <th>339</th>\n",
              "      <td>1</td>\n",
              "      <td>1</td>\n",
              "    </tr>\n",
              "    <tr>\n",
              "      <th>76</th>\n",
              "      <td>0</td>\n",
              "      <td>0</td>\n",
              "    </tr>\n",
              "    <tr>\n",
              "      <th>208</th>\n",
              "      <td>1</td>\n",
              "      <td>1</td>\n",
              "    </tr>\n",
              "    <tr>\n",
              "      <th>19</th>\n",
              "      <td>1</td>\n",
              "      <td>1</td>\n",
              "    </tr>\n",
              "    <tr>\n",
              "      <th>254</th>\n",
              "      <td>0</td>\n",
              "      <td>1</td>\n",
              "    </tr>\n",
              "    <tr>\n",
              "      <th>229</th>\n",
              "      <td>1</td>\n",
              "      <td>0</td>\n",
              "    </tr>\n",
              "    <tr>\n",
              "      <th>109</th>\n",
              "      <td>0</td>\n",
              "      <td>0</td>\n",
              "    </tr>\n",
              "    <tr>\n",
              "      <th>29</th>\n",
              "      <td>0</td>\n",
              "      <td>0</td>\n",
              "    </tr>\n",
              "    <tr>\n",
              "      <th>398</th>\n",
              "      <td>0</td>\n",
              "      <td>0</td>\n",
              "    </tr>\n",
              "    <tr>\n",
              "      <th>31</th>\n",
              "      <td>1</td>\n",
              "      <td>1</td>\n",
              "    </tr>\n",
              "    <tr>\n",
              "      <th>209</th>\n",
              "      <td>0</td>\n",
              "      <td>1</td>\n",
              "    </tr>\n",
              "    <tr>\n",
              "      <th>220</th>\n",
              "      <td>0</td>\n",
              "      <td>0</td>\n",
              "    </tr>\n",
              "    <tr>\n",
              "      <th>189</th>\n",
              "      <td>0</td>\n",
              "      <td>0</td>\n",
              "    </tr>\n",
              "  </tbody>\n",
              "</table>\n",
              "</div>"
            ],
            "text/plain": [
              "     Actual  Predicted\n",
              "315       1          0\n",
              "331       1          1\n",
              "195       0          0\n",
              "110       0          0\n",
              "47        0          0\n",
              "285       1          1\n",
              "134       0          0\n",
              "333       0          0\n",
              "131       0          0\n",
              "87        0          0\n",
              "370       1          1\n",
              "382       1          1\n",
              "298       0          1\n",
              "259       1          0\n",
              "366       1          1\n",
              "77        0          0\n",
              "264       1          1\n",
              "188       0          0\n",
              "336       1          1\n",
              "318       1          1\n",
              "203       0          0\n",
              "196       0          0\n",
              "48        1          1\n",
              "242       1          1\n",
              "44        0          0\n",
              "359       0          0\n",
              "148       0          0\n",
              "339       1          1\n",
              "76        0          0\n",
              "208       1          1\n",
              "19        1          1\n",
              "254       0          1\n",
              "229       1          0\n",
              "109       0          0\n",
              "29        0          0\n",
              "398       0          0\n",
              "31        1          1\n",
              "209       0          1\n",
              "220       0          0\n",
              "189       0          0"
            ]
          },
          "execution_count": 48,
          "metadata": {},
          "output_type": "execute_result"
        }
      ],
      "source": [
        "cross_check = pd.DataFrame({'Actual' : y_test, 'Predicted' : y_pred})\n",
        "cross_check"
      ]
    },
    {
      "cell_type": "markdown",
      "id": "9e86c4e2",
      "metadata": {
        "id": "9e86c4e2",
        "papermill": {
          "duration": 0.033736,
          "end_time": "2022-11-03T14:39:35.063971",
          "exception": false,
          "start_time": "2022-11-03T14:39:35.030235",
          "status": "completed"
        },
        "tags": []
      },
      "source": [
        "# **Naive Bayes**"
      ]
    },
    {
      "cell_type": "code",
      "execution_count": null,
      "id": "fe007e5d",
      "metadata": {
        "execution": {
          "iopub.execute_input": "2022-11-03T14:39:35.133161Z",
          "iopub.status.busy": "2022-11-03T14:39:35.132745Z",
          "iopub.status.idle": "2022-11-03T14:39:35.146957Z",
          "shell.execute_reply": "2022-11-03T14:39:35.146018Z"
        },
        "id": "fe007e5d",
        "outputId": "26f4a5a7-996e-4e8f-9fe8-57d13e4afc3d",
        "papermill": {
          "duration": 0.051841,
          "end_time": "2022-11-03T14:39:35.149545",
          "exception": false,
          "start_time": "2022-11-03T14:39:35.097704",
          "status": "completed"
        },
        "tags": []
      },
      "outputs": [
        {
          "data": {
            "text/plain": [
              "array([0, 1, 0, 0, 0, 0, 0, 0, 0, 0, 1, 1, 1, 1, 1, 0, 1, 0, 1, 0, 0, 0,\n",
              "       1, 1, 0, 0, 0, 1, 0, 1, 1, 1, 0, 0, 0, 0, 1, 1, 0, 0])"
            ]
          },
          "execution_count": 49,
          "metadata": {},
          "output_type": "execute_result"
        }
      ],
      "source": [
        "from sklearn.naive_bayes import GaussianNB\n",
        "gnb = GaussianNB()\n",
        "gnb.fit(X_train, y_train)\n",
        "y_pred = gnb.predict(X_test)\n",
        "y_pred"
      ]
    },
    {
      "cell_type": "markdown",
      "id": "1bb77d51",
      "metadata": {
        "id": "1bb77d51",
        "papermill": {
          "duration": 0.033768,
          "end_time": "2022-11-03T14:39:35.217583",
          "exception": false,
          "start_time": "2022-11-03T14:39:35.183815",
          "status": "completed"
        },
        "tags": []
      },
      "source": [
        "## **Cross Validation**"
      ]
    },
    {
      "cell_type": "code",
      "execution_count": null,
      "id": "9e50fc80",
      "metadata": {
        "execution": {
          "iopub.execute_input": "2022-11-03T14:39:35.288539Z",
          "iopub.status.busy": "2022-11-03T14:39:35.288018Z",
          "iopub.status.idle": "2022-11-03T14:39:35.349768Z",
          "shell.execute_reply": "2022-11-03T14:39:35.348787Z"
        },
        "id": "9e50fc80",
        "outputId": "c86131d2-b8cc-4636-a5a1-095e3a754a5a",
        "papermill": {
          "duration": 0.100635,
          "end_time": "2022-11-03T14:39:35.352208",
          "exception": false,
          "start_time": "2022-11-03T14:39:35.251573",
          "status": "completed"
        },
        "tags": []
      },
      "outputs": [
        {
          "data": {
            "text/plain": [
              "array([0.88888889, 0.80555556, 0.97222222, 0.91666667, 0.91666667,\n",
              "       0.97222222, 0.86111111, 0.83333333, 0.83333333, 0.97222222])"
            ]
          },
          "execution_count": 50,
          "metadata": {},
          "output_type": "execute_result"
        }
      ],
      "source": [
        "from sklearn import model_selection\n",
        "kfold = model_selection.KFold(n_splits = 10)\n",
        "gnb = GaussianNB()\n",
        "gnb.fit(X_train, y_train)\n",
        "results = model_selection.cross_val_score(gnb, X_train, y_train, cv = kfold)\n",
        "results"
      ]
    },
    {
      "cell_type": "markdown",
      "id": "3c79db59",
      "metadata": {
        "id": "3c79db59",
        "papermill": {
          "duration": 0.034718,
          "end_time": "2022-11-03T14:39:35.421574",
          "exception": false,
          "start_time": "2022-11-03T14:39:35.386856",
          "status": "completed"
        },
        "tags": []
      },
      "source": [
        "## **Accuracy**"
      ]
    },
    {
      "cell_type": "code",
      "execution_count": null,
      "id": "e212d20c",
      "metadata": {
        "execution": {
          "iopub.execute_input": "2022-11-03T14:39:35.491235Z",
          "iopub.status.busy": "2022-11-03T14:39:35.490453Z",
          "iopub.status.idle": "2022-11-03T14:39:35.496679Z",
          "shell.execute_reply": "2022-11-03T14:39:35.495726Z"
        },
        "id": "e212d20c",
        "outputId": "c3507f3d-b444-4b18-fc5e-d9ab938e2c19",
        "papermill": {
          "duration": 0.044845,
          "end_time": "2022-11-03T14:39:35.500152",
          "exception": false,
          "start_time": "2022-11-03T14:39:35.455307",
          "status": "completed"
        },
        "tags": []
      },
      "outputs": [
        {
          "name": "stdout",
          "output_type": "stream",
          "text": [
            "accuracy_score:  0.825\n"
          ]
        }
      ],
      "source": [
        "from sklearn.metrics import accuracy_score\n",
        "\n",
        "gnb_acc = accuracy_score(y_test, y_pred)\n",
        "print(\"accuracy_score: \", gnb_acc)"
      ]
    },
    {
      "cell_type": "code",
      "execution_count": null,
      "id": "21b9524b",
      "metadata": {
        "execution": {
          "iopub.execute_input": "2022-11-03T14:39:35.572032Z",
          "iopub.status.busy": "2022-11-03T14:39:35.571246Z",
          "iopub.status.idle": "2022-11-03T14:39:35.582263Z",
          "shell.execute_reply": "2022-11-03T14:39:35.581135Z"
        },
        "id": "21b9524b",
        "outputId": "f9b5aeaf-193e-4c07-853e-6818004c8257",
        "papermill": {
          "duration": 0.048848,
          "end_time": "2022-11-03T14:39:35.584792",
          "exception": false,
          "start_time": "2022-11-03T14:39:35.535944",
          "status": "completed"
        },
        "tags": []
      },
      "outputs": [
        {
          "name": "stdout",
          "output_type": "stream",
          "text": [
            "Naive Bayes Train Score is :  0.9027777777777778\n",
            "Naive Bayes Test Score is :  0.825\n"
          ]
        }
      ],
      "source": [
        "gnb_train_score = gnb.score(X_train, y_train)\n",
        "\n",
        "gnb_test_score= gnb.score(X_test, y_test)\n",
        "\n",
        "print('Naive Bayes Train Score is : ' , gnb_train_score)\n",
        "\n",
        "print('Naive Bayes Test Score is : ' , gnb_test_score)"
      ]
    },
    {
      "cell_type": "code",
      "execution_count": null,
      "id": "649ea115",
      "metadata": {
        "execution": {
          "iopub.execute_input": "2022-11-03T14:39:35.654784Z",
          "iopub.status.busy": "2022-11-03T14:39:35.653958Z",
          "iopub.status.idle": "2022-11-03T14:39:35.664598Z",
          "shell.execute_reply": "2022-11-03T14:39:35.663266Z"
        },
        "id": "649ea115",
        "outputId": "ed7d8d48-4dd4-4774-e9bc-14d3c25e0267",
        "papermill": {
          "duration": 0.049372,
          "end_time": "2022-11-03T14:39:35.667969",
          "exception": false,
          "start_time": "2022-11-03T14:39:35.618597",
          "status": "completed"
        },
        "tags": []
      },
      "outputs": [
        {
          "name": "stdout",
          "output_type": "stream",
          "text": [
            "Naive Bayes Predictions : \n",
            " [0 1 0 0 0 0 0 0 0 0 1 1 1 1 1 0 1 0 1 0 0 0 1 1 0 0 0 1 0 1 1 1 0 0 0 0 1\n",
            " 1 0 0] \n",
            " Accuracy: 82.5 %\n"
          ]
        }
      ],
      "source": [
        "from sklearn import  metrics\n",
        "\n",
        "gnb_acc = 100*gnb.score(X_test, y_test)\n",
        "print('Naive Bayes Predictions : \\n', gnb.predict(X_test), '\\n Accuracy:', gnb_acc, '%')\n"
      ]
    },
    {
      "cell_type": "markdown",
      "id": "d74f4316",
      "metadata": {
        "id": "d74f4316",
        "papermill": {
          "duration": 0.034182,
          "end_time": "2022-11-03T14:39:35.736538",
          "exception": false,
          "start_time": "2022-11-03T14:39:35.702356",
          "status": "completed"
        },
        "tags": []
      },
      "source": [
        "## **Classification Report**"
      ]
    },
    {
      "cell_type": "code",
      "execution_count": null,
      "id": "63ebffc1",
      "metadata": {
        "execution": {
          "iopub.execute_input": "2022-11-03T14:39:35.806081Z",
          "iopub.status.busy": "2022-11-03T14:39:35.805649Z",
          "iopub.status.idle": "2022-11-03T14:39:35.817437Z",
          "shell.execute_reply": "2022-11-03T14:39:35.816127Z"
        },
        "id": "63ebffc1",
        "outputId": "ed6146b8-063e-4f5d-cddc-79bbb30cb1f3",
        "papermill": {
          "duration": 0.04965,
          "end_time": "2022-11-03T14:39:35.819971",
          "exception": false,
          "start_time": "2022-11-03T14:39:35.770321",
          "status": "completed"
        },
        "tags": []
      },
      "outputs": [
        {
          "name": "stdout",
          "output_type": "stream",
          "text": [
            "              precision    recall  f1-score   support\n",
            "\n",
            "           0       0.83      0.87      0.85        23\n",
            "           1       0.81      0.76      0.79        17\n",
            "\n",
            "    accuracy                           0.82        40\n",
            "   macro avg       0.82      0.82      0.82        40\n",
            "weighted avg       0.82      0.82      0.82        40\n",
            "\n"
          ]
        }
      ],
      "source": [
        "from sklearn.metrics import classification_report\n",
        "print(classification_report(y_test, y_pred))"
      ]
    },
    {
      "cell_type": "markdown",
      "id": "7214fc05",
      "metadata": {
        "id": "7214fc05",
        "papermill": {
          "duration": 0.034248,
          "end_time": "2022-11-03T14:39:35.889416",
          "exception": false,
          "start_time": "2022-11-03T14:39:35.855168",
          "status": "completed"
        },
        "tags": []
      },
      "source": [
        "## **Confusion Matrix**"
      ]
    },
    {
      "cell_type": "code",
      "execution_count": null,
      "id": "dffa30ba",
      "metadata": {
        "execution": {
          "iopub.execute_input": "2022-11-03T14:39:35.960806Z",
          "iopub.status.busy": "2022-11-03T14:39:35.960358Z",
          "iopub.status.idle": "2022-11-03T14:39:35.966577Z",
          "shell.execute_reply": "2022-11-03T14:39:35.965692Z"
        },
        "id": "dffa30ba",
        "outputId": "f83e0fb6-8fc6-431a-b632-619d3d7e2fe0",
        "papermill": {
          "duration": 0.04561,
          "end_time": "2022-11-03T14:39:35.969609",
          "exception": false,
          "start_time": "2022-11-03T14:39:35.923999",
          "status": "completed"
        },
        "tags": []
      },
      "outputs": [
        {
          "name": "stdout",
          "output_type": "stream",
          "text": [
            "[[20  3]\n",
            " [ 4 13]]\n"
          ]
        }
      ],
      "source": [
        "from sklearn.metrics import confusion_matrix\n",
        "print(confusion_matrix(y_test, y_pred))"
      ]
    },
    {
      "cell_type": "code",
      "execution_count": null,
      "id": "398350a1",
      "metadata": {
        "execution": {
          "iopub.execute_input": "2022-11-03T14:39:36.039627Z",
          "iopub.status.busy": "2022-11-03T14:39:36.038718Z",
          "iopub.status.idle": "2022-11-03T14:39:36.282725Z",
          "shell.execute_reply": "2022-11-03T14:39:36.281491Z"
        },
        "id": "398350a1",
        "papermill": {
          "duration": 0.281829,
          "end_time": "2022-11-03T14:39:36.285389",
          "exception": false,
          "start_time": "2022-11-03T14:39:36.003560",
          "status": "completed"
        },
        "tags": [],
        "outputId": "0bafca61-1ac0-448c-9a1f-640076dcd609"
      },
      "outputs": [
        {
          "data": {
            "image/png": "[encoded data removed]",
            "text/plain": [
              "<Figure size 432x288 with 2 Axes>"
            ]
          },
          "metadata": {
            "needs_background": "light"
          },
          "output_type": "display_data"
        },
        {
          "data": {
            "text/plain": [
              "<Figure size 720x576 with 0 Axes>"
            ]
          },
          "metadata": {},
          "output_type": "display_data"
        }
      ],
      "source": [
        "from sklearn.metrics import plot_confusion_matrix\n",
        "plot_confusion_matrix(gnb, X_test, y_test, cmap=plt.cm.Blues)  \n",
        "plt.figure(figsize = (10,8))\n",
        "plt.show()"
      ]
    },
    {
      "cell_type": "markdown",
      "id": "9082355e",
      "metadata": {
        "id": "9082355e",
        "papermill": {
          "duration": 0.033692,
          "end_time": "2022-11-03T14:39:36.353191",
          "exception": false,
          "start_time": "2022-11-03T14:39:36.319499",
          "status": "completed"
        },
        "tags": []
      },
      "source": [
        "## **Predicting New Data**"
      ]
    },
    {
      "cell_type": "code",
      "execution_count": null,
      "id": "b77eb989",
      "metadata": {
        "execution": {
          "iopub.execute_input": "2022-11-03T14:39:36.423057Z",
          "iopub.status.busy": "2022-11-03T14:39:36.422594Z",
          "iopub.status.idle": "2022-11-03T14:39:36.427615Z",
          "shell.execute_reply": "2022-11-03T14:39:36.426387Z"
        },
        "id": "b77eb989",
        "papermill": {
          "duration": 0.043097,
          "end_time": "2022-11-03T14:39:36.430238",
          "exception": false,
          "start_time": "2022-11-03T14:39:36.387141",
          "status": "completed"
        },
        "tags": []
      },
      "outputs": [],
      "source": [
        "New_Buyer = [[1, 30, 45000]]"
      ]
    },
    {
      "cell_type": "code",
      "execution_count": null,
      "id": "c0d5f031",
      "metadata": {
        "execution": {
          "iopub.execute_input": "2022-11-03T14:39:36.502439Z",
          "iopub.status.busy": "2022-11-03T14:39:36.501893Z",
          "iopub.status.idle": "2022-11-03T14:39:36.510632Z",
          "shell.execute_reply": "2022-11-03T14:39:36.509173Z"
        },
        "id": "c0d5f031",
        "outputId": "431dfc99-5aa4-46a2-ffa7-ef58816cf235",
        "papermill": {
          "duration": 0.048093,
          "end_time": "2022-11-03T14:39:36.513104",
          "exception": false,
          "start_time": "2022-11-03T14:39:36.465011",
          "status": "completed"
        },
        "tags": []
      },
      "outputs": [
        {
          "data": {
            "text/plain": [
              "array([0])"
            ]
          },
          "execution_count": 58,
          "metadata": {},
          "output_type": "execute_result"
        }
      ],
      "source": [
        "gnb.predict(New_Buyer)"
      ]
    },
    {
      "cell_type": "markdown",
      "id": "838e5589",
      "metadata": {
        "id": "838e5589",
        "papermill": {
          "duration": 0.034846,
          "end_time": "2022-11-03T14:39:36.582772",
          "exception": false,
          "start_time": "2022-11-03T14:39:36.547926",
          "status": "completed"
        },
        "tags": []
      },
      "source": [
        "## **Cross Check**"
      ]
    },
    {
      "cell_type": "code",
      "execution_count": null,
      "id": "013285f5",
      "metadata": {
        "execution": {
          "iopub.execute_input": "2022-11-03T14:39:36.653000Z",
          "iopub.status.busy": "2022-11-03T14:39:36.652582Z",
          "iopub.status.idle": "2022-11-03T14:39:36.666488Z",
          "shell.execute_reply": "2022-11-03T14:39:36.664917Z"
        },
        "id": "013285f5",
        "papermill": {
          "duration": 0.05191,
          "end_time": "2022-11-03T14:39:36.668825",
          "exception": false,
          "start_time": "2022-11-03T14:39:36.616915",
          "status": "completed"
        },
        "tags": [],
        "outputId": "25e08645-65ea-4c9a-f08a-4141aba1eda5"
      },
      "outputs": [
        {
          "data": {
            "text/html": [
              "<div>\n",
              "<style scoped>\n",
              "    .dataframe tbody tr th:only-of-type {\n",
              "        vertical-align: middle;\n",
              "    }\n",
              "\n",
              "    .dataframe tbody tr th {\n",
              "        vertical-align: top;\n",
              "    }\n",
              "\n",
              "    .dataframe thead th {\n",
              "        text-align: right;\n",
              "    }\n",
              "</style>\n",
              "<table border=\"1\" class=\"dataframe\">\n",
              "  <thead>\n",
              "    <tr style=\"text-align: right;\">\n",
              "      <th></th>\n",
              "      <th>Actual</th>\n",
              "      <th>Predicted</th>\n",
              "    </tr>\n",
              "  </thead>\n",
              "  <tbody>\n",
              "    <tr>\n",
              "      <th>315</th>\n",
              "      <td>1</td>\n",
              "      <td>0</td>\n",
              "    </tr>\n",
              "    <tr>\n",
              "      <th>331</th>\n",
              "      <td>1</td>\n",
              "      <td>1</td>\n",
              "    </tr>\n",
              "    <tr>\n",
              "      <th>195</th>\n",
              "      <td>0</td>\n",
              "      <td>0</td>\n",
              "    </tr>\n",
              "    <tr>\n",
              "      <th>110</th>\n",
              "      <td>0</td>\n",
              "      <td>0</td>\n",
              "    </tr>\n",
              "    <tr>\n",
              "      <th>47</th>\n",
              "      <td>0</td>\n",
              "      <td>0</td>\n",
              "    </tr>\n",
              "    <tr>\n",
              "      <th>285</th>\n",
              "      <td>1</td>\n",
              "      <td>0</td>\n",
              "    </tr>\n",
              "    <tr>\n",
              "      <th>134</th>\n",
              "      <td>0</td>\n",
              "      <td>0</td>\n",
              "    </tr>\n",
              "    <tr>\n",
              "      <th>333</th>\n",
              "      <td>0</td>\n",
              "      <td>0</td>\n",
              "    </tr>\n",
              "    <tr>\n",
              "      <th>131</th>\n",
              "      <td>0</td>\n",
              "      <td>0</td>\n",
              "    </tr>\n",
              "    <tr>\n",
              "      <th>87</th>\n",
              "      <td>0</td>\n",
              "      <td>0</td>\n",
              "    </tr>\n",
              "    <tr>\n",
              "      <th>370</th>\n",
              "      <td>1</td>\n",
              "      <td>1</td>\n",
              "    </tr>\n",
              "    <tr>\n",
              "      <th>382</th>\n",
              "      <td>1</td>\n",
              "      <td>1</td>\n",
              "    </tr>\n",
              "    <tr>\n",
              "      <th>298</th>\n",
              "      <td>0</td>\n",
              "      <td>1</td>\n",
              "    </tr>\n",
              "    <tr>\n",
              "      <th>259</th>\n",
              "      <td>1</td>\n",
              "      <td>1</td>\n",
              "    </tr>\n",
              "    <tr>\n",
              "      <th>366</th>\n",
              "      <td>1</td>\n",
              "      <td>1</td>\n",
              "    </tr>\n",
              "    <tr>\n",
              "      <th>77</th>\n",
              "      <td>0</td>\n",
              "      <td>0</td>\n",
              "    </tr>\n",
              "    <tr>\n",
              "      <th>264</th>\n",
              "      <td>1</td>\n",
              "      <td>1</td>\n",
              "    </tr>\n",
              "    <tr>\n",
              "      <th>188</th>\n",
              "      <td>0</td>\n",
              "      <td>0</td>\n",
              "    </tr>\n",
              "    <tr>\n",
              "      <th>336</th>\n",
              "      <td>1</td>\n",
              "      <td>1</td>\n",
              "    </tr>\n",
              "    <tr>\n",
              "      <th>318</th>\n",
              "      <td>1</td>\n",
              "      <td>0</td>\n",
              "    </tr>\n",
              "    <tr>\n",
              "      <th>203</th>\n",
              "      <td>0</td>\n",
              "      <td>0</td>\n",
              "    </tr>\n",
              "    <tr>\n",
              "      <th>196</th>\n",
              "      <td>0</td>\n",
              "      <td>0</td>\n",
              "    </tr>\n",
              "    <tr>\n",
              "      <th>48</th>\n",
              "      <td>1</td>\n",
              "      <td>1</td>\n",
              "    </tr>\n",
              "    <tr>\n",
              "      <th>242</th>\n",
              "      <td>1</td>\n",
              "      <td>1</td>\n",
              "    </tr>\n",
              "    <tr>\n",
              "      <th>44</th>\n",
              "      <td>0</td>\n",
              "      <td>0</td>\n",
              "    </tr>\n",
              "    <tr>\n",
              "      <th>359</th>\n",
              "      <td>0</td>\n",
              "      <td>0</td>\n",
              "    </tr>\n",
              "    <tr>\n",
              "      <th>148</th>\n",
              "      <td>0</td>\n",
              "      <td>0</td>\n",
              "    </tr>\n",
              "    <tr>\n",
              "      <th>339</th>\n",
              "      <td>1</td>\n",
              "      <td>1</td>\n",
              "    </tr>\n",
              "    <tr>\n",
              "      <th>76</th>\n",
              "      <td>0</td>\n",
              "      <td>0</td>\n",
              "    </tr>\n",
              "    <tr>\n",
              "      <th>208</th>\n",
              "      <td>1</td>\n",
              "      <td>1</td>\n",
              "    </tr>\n",
              "    <tr>\n",
              "      <th>19</th>\n",
              "      <td>1</td>\n",
              "      <td>1</td>\n",
              "    </tr>\n",
              "    <tr>\n",
              "      <th>254</th>\n",
              "      <td>0</td>\n",
              "      <td>1</td>\n",
              "    </tr>\n",
              "    <tr>\n",
              "      <th>229</th>\n",
              "      <td>1</td>\n",
              "      <td>0</td>\n",
              "    </tr>\n",
              "    <tr>\n",
              "      <th>109</th>\n",
              "      <td>0</td>\n",
              "      <td>0</td>\n",
              "    </tr>\n",
              "    <tr>\n",
              "      <th>29</th>\n",
              "      <td>0</td>\n",
              "      <td>0</td>\n",
              "    </tr>\n",
              "    <tr>\n",
              "      <th>398</th>\n",
              "      <td>0</td>\n",
              "      <td>0</td>\n",
              "    </tr>\n",
              "    <tr>\n",
              "      <th>31</th>\n",
              "      <td>1</td>\n",
              "      <td>1</td>\n",
              "    </tr>\n",
              "    <tr>\n",
              "      <th>209</th>\n",
              "      <td>0</td>\n",
              "      <td>1</td>\n",
              "    </tr>\n",
              "    <tr>\n",
              "      <th>220</th>\n",
              "      <td>0</td>\n",
              "      <td>0</td>\n",
              "    </tr>\n",
              "    <tr>\n",
              "      <th>189</th>\n",
              "      <td>0</td>\n",
              "      <td>0</td>\n",
              "    </tr>\n",
              "  </tbody>\n",
              "</table>\n",
              "</div>"
            ],
            "text/plain": [
              "     Actual  Predicted\n",
              "315       1          0\n",
              "331       1          1\n",
              "195       0          0\n",
              "110       0          0\n",
              "47        0          0\n",
              "285       1          0\n",
              "134       0          0\n",
              "333       0          0\n",
              "131       0          0\n",
              "87        0          0\n",
              "370       1          1\n",
              "382       1          1\n",
              "298       0          1\n",
              "259       1          1\n",
              "366       1          1\n",
              "77        0          0\n",
              "264       1          1\n",
              "188       0          0\n",
              "336       1          1\n",
              "318       1          0\n",
              "203       0          0\n",
              "196       0          0\n",
              "48        1          1\n",
              "242       1          1\n",
              "44        0          0\n",
              "359       0          0\n",
              "148       0          0\n",
              "339       1          1\n",
              "76        0          0\n",
              "208       1          1\n",
              "19        1          1\n",
              "254       0          1\n",
              "229       1          0\n",
              "109       0          0\n",
              "29        0          0\n",
              "398       0          0\n",
              "31        1          1\n",
              "209       0          1\n",
              "220       0          0\n",
              "189       0          0"
            ]
          },
          "execution_count": 59,
          "metadata": {},
          "output_type": "execute_result"
        }
      ],
      "source": [
        "cross_check = pd.DataFrame({'Actual' : y_test, 'Predicted' : y_pred})\n",
        "cross_check"
      ]
    },
    {
      "cell_type": "markdown",
      "id": "dfe26548",
      "metadata": {
        "id": "dfe26548",
        "papermill": {
          "duration": 0.107008,
          "end_time": "2022-11-03T14:39:36.810918",
          "exception": false,
          "start_time": "2022-11-03T14:39:36.703910",
          "status": "completed"
        },
        "tags": []
      },
      "source": [
        "\n",
        "\n",
        "\n",
        "\n",
        "\n",
        "# **Support Vector Machine (SVM)**"
      ]
    },
    {
      "cell_type": "code",
      "execution_count": null,
      "id": "257b015e",
      "metadata": {
        "execution": {
          "iopub.execute_input": "2022-11-03T14:39:36.882093Z",
          "iopub.status.busy": "2022-11-03T14:39:36.881665Z",
          "iopub.status.idle": "2022-11-03T14:39:36.901853Z",
          "shell.execute_reply": "2022-11-03T14:39:36.900640Z"
        },
        "id": "257b015e",
        "outputId": "38e4692c-030d-423c-cd4f-ca8ea0740e3d",
        "papermill": {
          "duration": 0.058652,
          "end_time": "2022-11-03T14:39:36.904286",
          "exception": false,
          "start_time": "2022-11-03T14:39:36.845634",
          "status": "completed"
        },
        "tags": []
      },
      "outputs": [
        {
          "data": {
            "text/plain": [
              "array([0, 1, 0, 0, 0, 0, 0, 0, 0, 0, 1, 1, 1, 1, 1, 0, 1, 0, 1, 0, 0, 0,\n",
              "       0, 1, 0, 0, 0, 1, 0, 1, 0, 1, 0, 0, 0, 0, 0, 0, 0, 0])"
            ]
          },
          "execution_count": 60,
          "metadata": {},
          "output_type": "execute_result"
        }
      ],
      "source": [
        "from sklearn import preprocessing\n",
        "from sklearn.svm import SVC\n",
        "\n",
        "svm = SVC(kernel ='linear')\n",
        "X_train = preprocessing.scale(X_train)\n",
        "X_test = preprocessing.scale(X_test)\n",
        "svm.fit(X_train, y_train)\n",
        "y_pred = svm.predict(X_test)\n",
        "y_pred"
      ]
    },
    {
      "cell_type": "markdown",
      "id": "a00bfb69",
      "metadata": {
        "id": "a00bfb69",
        "papermill": {
          "duration": 0.034844,
          "end_time": "2022-11-03T14:39:36.974538",
          "exception": false,
          "start_time": "2022-11-03T14:39:36.939694",
          "status": "completed"
        },
        "tags": []
      },
      "source": [
        "## **Cross Validation**"
      ]
    },
    {
      "cell_type": "code",
      "execution_count": null,
      "id": "e7f26f38",
      "metadata": {
        "execution": {
          "iopub.execute_input": "2022-11-03T14:39:37.049598Z",
          "iopub.status.busy": "2022-11-03T14:39:37.048919Z",
          "iopub.status.idle": "2022-11-03T14:39:37.107791Z",
          "shell.execute_reply": "2022-11-03T14:39:37.106845Z"
        },
        "id": "e7f26f38",
        "outputId": "5feab899-f00b-4677-e630-2479f4053c12",
        "papermill": {
          "duration": 0.100029,
          "end_time": "2022-11-03T14:39:37.110169",
          "exception": false,
          "start_time": "2022-11-03T14:39:37.010140",
          "status": "completed"
        },
        "tags": []
      },
      "outputs": [
        {
          "data": {
            "text/plain": [
              "array([0.77777778, 0.75      , 0.91666667, 0.83333333, 0.86111111,\n",
              "       0.91666667, 0.88888889, 0.77777778, 0.80555556, 0.91666667])"
            ]
          },
          "execution_count": 61,
          "metadata": {},
          "output_type": "execute_result"
        }
      ],
      "source": [
        "from sklearn import model_selection\n",
        "kfold = model_selection.KFold(n_splits = 10)\n",
        "svm = SVC(kernel ='linear')\n",
        "svm.fit(X_train, y_train)\n",
        "results = model_selection.cross_val_score(svm, X_train, y_train, cv = kfold)\n",
        "results"
      ]
    },
    {
      "cell_type": "markdown",
      "id": "eb0a5eda",
      "metadata": {
        "id": "eb0a5eda",
        "papermill": {
          "duration": 0.034287,
          "end_time": "2022-11-03T14:39:37.179252",
          "exception": false,
          "start_time": "2022-11-03T14:39:37.144965",
          "status": "completed"
        },
        "tags": []
      },
      "source": [
        "## **Accuracy**"
      ]
    },
    {
      "cell_type": "code",
      "execution_count": null,
      "id": "3b6e2709",
      "metadata": {
        "execution": {
          "iopub.execute_input": "2022-11-03T14:39:37.252284Z",
          "iopub.status.busy": "2022-11-03T14:39:37.251392Z",
          "iopub.status.idle": "2022-11-03T14:39:37.257962Z",
          "shell.execute_reply": "2022-11-03T14:39:37.257088Z"
        },
        "id": "3b6e2709",
        "outputId": "c1a5c322-7665-4890-9f01-96fbfe682b10",
        "papermill": {
          "duration": 0.04619,
          "end_time": "2022-11-03T14:39:37.260587",
          "exception": false,
          "start_time": "2022-11-03T14:39:37.214397",
          "status": "completed"
        },
        "tags": []
      },
      "outputs": [
        {
          "name": "stdout",
          "output_type": "stream",
          "text": [
            "accuracy_score:  0.775\n"
          ]
        }
      ],
      "source": [
        "from sklearn.metrics import accuracy_score\n",
        "\n",
        "svm_acc = accuracy_score(y_test, y_pred)\n",
        "print('accuracy_score: ', svm_acc)"
      ]
    },
    {
      "cell_type": "code",
      "execution_count": null,
      "id": "f4eb032c",
      "metadata": {
        "execution": {
          "iopub.execute_input": "2022-11-03T14:39:37.336578Z",
          "iopub.status.busy": "2022-11-03T14:39:37.335385Z",
          "iopub.status.idle": "2022-11-03T14:39:37.346028Z",
          "shell.execute_reply": "2022-11-03T14:39:37.344288Z"
        },
        "id": "f4eb032c",
        "outputId": "b5a6f6ad-bb11-4218-a777-66ce08ddd742",
        "papermill": {
          "duration": 0.052641,
          "end_time": "2022-11-03T14:39:37.349429",
          "exception": false,
          "start_time": "2022-11-03T14:39:37.296788",
          "status": "completed"
        },
        "tags": []
      },
      "outputs": [
        {
          "name": "stdout",
          "output_type": "stream",
          "text": [
            "Support Vector Machine Train Score is :  0.8472222222222222\n",
            "Support Vector Machine Test Score is :  0.775\n"
          ]
        }
      ],
      "source": [
        "svm_train_score = svm.score(X_train, y_train)\n",
        "\n",
        "svm_test_score= svm.score(X_test, y_test)\n",
        "\n",
        "print('Support Vector Machine Train Score is : ' , svm_train_score)\n",
        "\n",
        "print('Support Vector Machine Test Score is : ' , svm_test_score)"
      ]
    },
    {
      "cell_type": "code",
      "execution_count": null,
      "id": "e9935b73",
      "metadata": {
        "execution": {
          "iopub.execute_input": "2022-11-03T14:39:37.423539Z",
          "iopub.status.busy": "2022-11-03T14:39:37.422264Z",
          "iopub.status.idle": "2022-11-03T14:39:37.431965Z",
          "shell.execute_reply": "2022-11-03T14:39:37.430205Z"
        },
        "id": "e9935b73",
        "outputId": "5b5fd51b-f645-432c-ff17-55cf76818586",
        "papermill": {
          "duration": 0.049487,
          "end_time": "2022-11-03T14:39:37.434702",
          "exception": false,
          "start_time": "2022-11-03T14:39:37.385215",
          "status": "completed"
        },
        "tags": []
      },
      "outputs": [
        {
          "name": "stdout",
          "output_type": "stream",
          "text": [
            "Support Vector Machine Predictions : \n",
            " [0 1 0 0 0 0 0 0 0 0 1 1 1 1 1 0 1 0 1 0 0 0 0 1 0 0 0 1 0 1 0 1 0 0 0 0 0\n",
            " 0 0 0] \n",
            " Accuracy: 77.5 %\n"
          ]
        }
      ],
      "source": [
        "from sklearn import  metrics\n",
        "\n",
        "svm_acc = 100*svm.score(X_test, y_test)\n",
        "print('Support Vector Machine Predictions : \\n', svm.predict(X_test), '\\n Accuracy:', svm_acc, '%')\n"
      ]
    },
    {
      "cell_type": "markdown",
      "id": "5c8f06ab",
      "metadata": {
        "id": "5c8f06ab",
        "papermill": {
          "duration": 0.035187,
          "end_time": "2022-11-03T14:39:37.505167",
          "exception": false,
          "start_time": "2022-11-03T14:39:37.469980",
          "status": "completed"
        },
        "tags": []
      },
      "source": [
        "## **Classification Report**"
      ]
    },
    {
      "cell_type": "code",
      "execution_count": null,
      "id": "b806ac83",
      "metadata": {
        "execution": {
          "iopub.execute_input": "2022-11-03T14:39:37.578880Z",
          "iopub.status.busy": "2022-11-03T14:39:37.578192Z",
          "iopub.status.idle": "2022-11-03T14:39:37.587981Z",
          "shell.execute_reply": "2022-11-03T14:39:37.586573Z"
        },
        "id": "b806ac83",
        "outputId": "ee0f05c2-f149-48dd-a0ca-f3356c6fb52b",
        "papermill": {
          "duration": 0.050475,
          "end_time": "2022-11-03T14:39:37.590902",
          "exception": false,
          "start_time": "2022-11-03T14:39:37.540427",
          "status": "completed"
        },
        "tags": []
      },
      "outputs": [
        {
          "name": "stdout",
          "output_type": "stream",
          "text": [
            "              precision    recall  f1-score   support\n",
            "\n",
            "           0       0.75      0.91      0.82        23\n",
            "           1       0.83      0.59      0.69        17\n",
            "\n",
            "    accuracy                           0.78        40\n",
            "   macro avg       0.79      0.75      0.76        40\n",
            "weighted avg       0.79      0.78      0.77        40\n",
            "\n"
          ]
        }
      ],
      "source": [
        "from sklearn.metrics import classification_report\n",
        "print(classification_report(y_test, y_pred))"
      ]
    },
    {
      "cell_type": "markdown",
      "id": "b5422578",
      "metadata": {
        "id": "b5422578",
        "papermill": {
          "duration": 0.035731,
          "end_time": "2022-11-03T14:39:37.663613",
          "exception": false,
          "start_time": "2022-11-03T14:39:37.627882",
          "status": "completed"
        },
        "tags": []
      },
      "source": [
        "## **Confusion Matrix**"
      ]
    },
    {
      "cell_type": "code",
      "execution_count": null,
      "id": "2713ad84",
      "metadata": {
        "execution": {
          "iopub.execute_input": "2022-11-03T14:39:37.742690Z",
          "iopub.status.busy": "2022-11-03T14:39:37.741389Z",
          "iopub.status.idle": "2022-11-03T14:39:37.749528Z",
          "shell.execute_reply": "2022-11-03T14:39:37.747789Z"
        },
        "id": "2713ad84",
        "outputId": "04fc990f-5a00-40c0-96bd-64c88f5cdbf6",
        "papermill": {
          "duration": 0.048035,
          "end_time": "2022-11-03T14:39:37.752292",
          "exception": false,
          "start_time": "2022-11-03T14:39:37.704257",
          "status": "completed"
        },
        "tags": []
      },
      "outputs": [
        {
          "name": "stdout",
          "output_type": "stream",
          "text": [
            "[[21  2]\n",
            " [ 7 10]]\n"
          ]
        }
      ],
      "source": [
        "from sklearn.metrics import confusion_matrix\n",
        "print(confusion_matrix(y_test, y_pred))"
      ]
    },
    {
      "cell_type": "code",
      "execution_count": null,
      "id": "45a77943",
      "metadata": {
        "execution": {
          "iopub.execute_input": "2022-11-03T14:39:37.825359Z",
          "iopub.status.busy": "2022-11-03T14:39:37.824170Z",
          "iopub.status.idle": "2022-11-03T14:39:38.073630Z",
          "shell.execute_reply": "2022-11-03T14:39:38.072293Z"
        },
        "id": "45a77943",
        "papermill": {
          "duration": 0.288751,
          "end_time": "2022-11-03T14:39:38.076262",
          "exception": false,
          "start_time": "2022-11-03T14:39:37.787511",
          "status": "completed"
        },
        "tags": [],
        "outputId": "044b8783-c2ad-4493-89d8-d9ca46109cd8"
      },
      "outputs": [
        {
          "data": {
            "image/png": "[encoded data removed]",
            "text/plain": [
              "<Figure size 432x288 with 2 Axes>"
            ]
          },
          "metadata": {
            "needs_background": "light"
          },
          "output_type": "display_data"
        },
        {
          "data": {
            "text/plain": [
              "<Figure size 720x576 with 0 Axes>"
            ]
          },
          "metadata": {},
          "output_type": "display_data"
        }
      ],
      "source": [
        "from sklearn.metrics import plot_confusion_matrix\n",
        "plot_confusion_matrix(svm, X_test, y_test, cmap=plt.cm.Blues)  \n",
        "plt.figure(figsize = (10,8))\n",
        "plt.show()"
      ]
    },
    {
      "cell_type": "markdown",
      "id": "a2a57f5f",
      "metadata": {
        "id": "a2a57f5f",
        "papermill": {
          "duration": 0.035152,
          "end_time": "2022-11-03T14:39:38.146899",
          "exception": false,
          "start_time": "2022-11-03T14:39:38.111747",
          "status": "completed"
        },
        "tags": []
      },
      "source": [
        "## **Predicting New Data**"
      ]
    },
    {
      "cell_type": "code",
      "execution_count": null,
      "id": "c0bc8ecb",
      "metadata": {
        "execution": {
          "iopub.execute_input": "2022-11-03T14:39:38.221653Z",
          "iopub.status.busy": "2022-11-03T14:39:38.221177Z",
          "iopub.status.idle": "2022-11-03T14:39:38.226536Z",
          "shell.execute_reply": "2022-11-03T14:39:38.225313Z"
        },
        "id": "c0bc8ecb",
        "papermill": {
          "duration": 0.045051,
          "end_time": "2022-11-03T14:39:38.228866",
          "exception": false,
          "start_time": "2022-11-03T14:39:38.183815",
          "status": "completed"
        },
        "tags": []
      },
      "outputs": [],
      "source": [
        "New_Buyer = [[2, 50, 100000]]"
      ]
    },
    {
      "cell_type": "code",
      "execution_count": null,
      "id": "e862465e",
      "metadata": {
        "execution": {
          "iopub.execute_input": "2022-11-03T14:39:38.303669Z",
          "iopub.status.busy": "2022-11-03T14:39:38.303188Z",
          "iopub.status.idle": "2022-11-03T14:39:38.311367Z",
          "shell.execute_reply": "2022-11-03T14:39:38.310112Z"
        },
        "id": "e862465e",
        "outputId": "f52b4c33-32df-4aa3-b54e-13e4c1f2d073",
        "papermill": {
          "duration": 0.048175,
          "end_time": "2022-11-03T14:39:38.313728",
          "exception": false,
          "start_time": "2022-11-03T14:39:38.265553",
          "status": "completed"
        },
        "tags": []
      },
      "outputs": [
        {
          "data": {
            "text/plain": [
              "array([1])"
            ]
          },
          "execution_count": 69,
          "metadata": {},
          "output_type": "execute_result"
        }
      ],
      "source": [
        "svm.predict(New_Buyer)"
      ]
    },
    {
      "cell_type": "markdown",
      "id": "ce8bf1d7",
      "metadata": {
        "id": "ce8bf1d7",
        "papermill": {
          "duration": 0.035843,
          "end_time": "2022-11-03T14:39:38.385386",
          "exception": false,
          "start_time": "2022-11-03T14:39:38.349543",
          "status": "completed"
        },
        "tags": []
      },
      "source": [
        "## **Cross Check**"
      ]
    },
    {
      "cell_type": "code",
      "execution_count": null,
      "id": "6cc432ee",
      "metadata": {
        "execution": {
          "iopub.execute_input": "2022-11-03T14:39:38.459301Z",
          "iopub.status.busy": "2022-11-03T14:39:38.458862Z",
          "iopub.status.idle": "2022-11-03T14:39:38.471851Z",
          "shell.execute_reply": "2022-11-03T14:39:38.470702Z"
        },
        "id": "6cc432ee",
        "papermill": {
          "duration": 0.053066,
          "end_time": "2022-11-03T14:39:38.474184",
          "exception": false,
          "start_time": "2022-11-03T14:39:38.421118",
          "status": "completed"
        },
        "tags": [],
        "outputId": "ed773cc6-d1c2-4e87-bee0-38b78fdbcab6"
      },
      "outputs": [
        {
          "data": {
            "text/html": [
              "<div>\n",
              "<style scoped>\n",
              "    .dataframe tbody tr th:only-of-type {\n",
              "        vertical-align: middle;\n",
              "    }\n",
              "\n",
              "    .dataframe tbody tr th {\n",
              "        vertical-align: top;\n",
              "    }\n",
              "\n",
              "    .dataframe thead th {\n",
              "        text-align: right;\n",
              "    }\n",
              "</style>\n",
              "<table border=\"1\" class=\"dataframe\">\n",
              "  <thead>\n",
              "    <tr style=\"text-align: right;\">\n",
              "      <th></th>\n",
              "      <th>Actual</th>\n",
              "      <th>Predicted</th>\n",
              "    </tr>\n",
              "  </thead>\n",
              "  <tbody>\n",
              "    <tr>\n",
              "      <th>315</th>\n",
              "      <td>1</td>\n",
              "      <td>0</td>\n",
              "    </tr>\n",
              "    <tr>\n",
              "      <th>331</th>\n",
              "      <td>1</td>\n",
              "      <td>1</td>\n",
              "    </tr>\n",
              "    <tr>\n",
              "      <th>195</th>\n",
              "      <td>0</td>\n",
              "      <td>0</td>\n",
              "    </tr>\n",
              "    <tr>\n",
              "      <th>110</th>\n",
              "      <td>0</td>\n",
              "      <td>0</td>\n",
              "    </tr>\n",
              "    <tr>\n",
              "      <th>47</th>\n",
              "      <td>0</td>\n",
              "      <td>0</td>\n",
              "    </tr>\n",
              "    <tr>\n",
              "      <th>285</th>\n",
              "      <td>1</td>\n",
              "      <td>0</td>\n",
              "    </tr>\n",
              "    <tr>\n",
              "      <th>134</th>\n",
              "      <td>0</td>\n",
              "      <td>0</td>\n",
              "    </tr>\n",
              "    <tr>\n",
              "      <th>333</th>\n",
              "      <td>0</td>\n",
              "      <td>0</td>\n",
              "    </tr>\n",
              "    <tr>\n",
              "      <th>131</th>\n",
              "      <td>0</td>\n",
              "      <td>0</td>\n",
              "    </tr>\n",
              "    <tr>\n",
              "      <th>87</th>\n",
              "      <td>0</td>\n",
              "      <td>0</td>\n",
              "    </tr>\n",
              "    <tr>\n",
              "      <th>370</th>\n",
              "      <td>1</td>\n",
              "      <td>1</td>\n",
              "    </tr>\n",
              "    <tr>\n",
              "      <th>382</th>\n",
              "      <td>1</td>\n",
              "      <td>1</td>\n",
              "    </tr>\n",
              "    <tr>\n",
              "      <th>298</th>\n",
              "      <td>0</td>\n",
              "      <td>1</td>\n",
              "    </tr>\n",
              "    <tr>\n",
              "      <th>259</th>\n",
              "      <td>1</td>\n",
              "      <td>1</td>\n",
              "    </tr>\n",
              "    <tr>\n",
              "      <th>366</th>\n",
              "      <td>1</td>\n",
              "      <td>1</td>\n",
              "    </tr>\n",
              "    <tr>\n",
              "      <th>77</th>\n",
              "      <td>0</td>\n",
              "      <td>0</td>\n",
              "    </tr>\n",
              "    <tr>\n",
              "      <th>264</th>\n",
              "      <td>1</td>\n",
              "      <td>1</td>\n",
              "    </tr>\n",
              "    <tr>\n",
              "      <th>188</th>\n",
              "      <td>0</td>\n",
              "      <td>0</td>\n",
              "    </tr>\n",
              "    <tr>\n",
              "      <th>336</th>\n",
              "      <td>1</td>\n",
              "      <td>1</td>\n",
              "    </tr>\n",
              "    <tr>\n",
              "      <th>318</th>\n",
              "      <td>1</td>\n",
              "      <td>0</td>\n",
              "    </tr>\n",
              "    <tr>\n",
              "      <th>203</th>\n",
              "      <td>0</td>\n",
              "      <td>0</td>\n",
              "    </tr>\n",
              "    <tr>\n",
              "      <th>196</th>\n",
              "      <td>0</td>\n",
              "      <td>0</td>\n",
              "    </tr>\n",
              "    <tr>\n",
              "      <th>48</th>\n",
              "      <td>1</td>\n",
              "      <td>0</td>\n",
              "    </tr>\n",
              "    <tr>\n",
              "      <th>242</th>\n",
              "      <td>1</td>\n",
              "      <td>1</td>\n",
              "    </tr>\n",
              "    <tr>\n",
              "      <th>44</th>\n",
              "      <td>0</td>\n",
              "      <td>0</td>\n",
              "    </tr>\n",
              "    <tr>\n",
              "      <th>359</th>\n",
              "      <td>0</td>\n",
              "      <td>0</td>\n",
              "    </tr>\n",
              "    <tr>\n",
              "      <th>148</th>\n",
              "      <td>0</td>\n",
              "      <td>0</td>\n",
              "    </tr>\n",
              "    <tr>\n",
              "      <th>339</th>\n",
              "      <td>1</td>\n",
              "      <td>1</td>\n",
              "    </tr>\n",
              "    <tr>\n",
              "      <th>76</th>\n",
              "      <td>0</td>\n",
              "      <td>0</td>\n",
              "    </tr>\n",
              "    <tr>\n",
              "      <th>208</th>\n",
              "      <td>1</td>\n",
              "      <td>1</td>\n",
              "    </tr>\n",
              "    <tr>\n",
              "      <th>19</th>\n",
              "      <td>1</td>\n",
              "      <td>0</td>\n",
              "    </tr>\n",
              "    <tr>\n",
              "      <th>254</th>\n",
              "      <td>0</td>\n",
              "      <td>1</td>\n",
              "    </tr>\n",
              "    <tr>\n",
              "      <th>229</th>\n",
              "      <td>1</td>\n",
              "      <td>0</td>\n",
              "    </tr>\n",
              "    <tr>\n",
              "      <th>109</th>\n",
              "      <td>0</td>\n",
              "      <td>0</td>\n",
              "    </tr>\n",
              "    <tr>\n",
              "      <th>29</th>\n",
              "      <td>0</td>\n",
              "      <td>0</td>\n",
              "    </tr>\n",
              "    <tr>\n",
              "      <th>398</th>\n",
              "      <td>0</td>\n",
              "      <td>0</td>\n",
              "    </tr>\n",
              "    <tr>\n",
              "      <th>31</th>\n",
              "      <td>1</td>\n",
              "      <td>0</td>\n",
              "    </tr>\n",
              "    <tr>\n",
              "      <th>209</th>\n",
              "      <td>0</td>\n",
              "      <td>0</td>\n",
              "    </tr>\n",
              "    <tr>\n",
              "      <th>220</th>\n",
              "      <td>0</td>\n",
              "      <td>0</td>\n",
              "    </tr>\n",
              "    <tr>\n",
              "      <th>189</th>\n",
              "      <td>0</td>\n",
              "      <td>0</td>\n",
              "    </tr>\n",
              "  </tbody>\n",
              "</table>\n",
              "</div>"
            ],
            "text/plain": [
              "     Actual  Predicted\n",
              "315       1          0\n",
              "331       1          1\n",
              "195       0          0\n",
              "110       0          0\n",
              "47        0          0\n",
              "285       1          0\n",
              "134       0          0\n",
              "333       0          0\n",
              "131       0          0\n",
              "87        0          0\n",
              "370       1          1\n",
              "382       1          1\n",
              "298       0          1\n",
              "259       1          1\n",
              "366       1          1\n",
              "77        0          0\n",
              "264       1          1\n",
              "188       0          0\n",
              "336       1          1\n",
              "318       1          0\n",
              "203       0          0\n",
              "196       0          0\n",
              "48        1          0\n",
              "242       1          1\n",
              "44        0          0\n",
              "359       0          0\n",
              "148       0          0\n",
              "339       1          1\n",
              "76        0          0\n",
              "208       1          1\n",
              "19        1          0\n",
              "254       0          1\n",
              "229       1          0\n",
              "109       0          0\n",
              "29        0          0\n",
              "398       0          0\n",
              "31        1          0\n",
              "209       0          0\n",
              "220       0          0\n",
              "189       0          0"
            ]
          },
          "execution_count": 70,
          "metadata": {},
          "output_type": "execute_result"
        }
      ],
      "source": [
        "cross_check = pd.DataFrame({'Actual' : y_test, 'Predicted' : y_pred})\n",
        "cross_check"
      ]
    },
    {
      "cell_type": "markdown",
      "id": "93696368",
      "metadata": {
        "id": "93696368",
        "papermill": {
          "duration": 0.035912,
          "end_time": "2022-11-03T14:39:38.547356",
          "exception": false,
          "start_time": "2022-11-03T14:39:38.511444",
          "status": "completed"
        },
        "tags": []
      },
      "source": [
        "# **Summary**"
      ]
    },
    {
      "cell_type": "code",
      "execution_count": null,
      "id": "ce4ce3fa",
      "metadata": {
        "execution": {
          "iopub.execute_input": "2022-11-03T14:39:38.623606Z",
          "iopub.status.busy": "2022-11-03T14:39:38.623099Z",
          "iopub.status.idle": "2022-11-03T14:39:38.636130Z",
          "shell.execute_reply": "2022-11-03T14:39:38.634881Z"
        },
        "id": "ce4ce3fa",
        "papermill": {
          "duration": 0.053957,
          "end_time": "2022-11-03T14:39:38.638940",
          "exception": false,
          "start_time": "2022-11-03T14:39:38.584983",
          "status": "completed"
        },
        "tags": [],
        "outputId": "d36f8d6c-636c-4a2a-dd79-32d900e14c8a"
      },
      "outputs": [
        {
          "data": {
            "text/html": [
              "<div>\n",
              "<style scoped>\n",
              "    .dataframe tbody tr th:only-of-type {\n",
              "        vertical-align: middle;\n",
              "    }\n",
              "\n",
              "    .dataframe tbody tr th {\n",
              "        vertical-align: top;\n",
              "    }\n",
              "\n",
              "    .dataframe thead th {\n",
              "        text-align: right;\n",
              "    }\n",
              "</style>\n",
              "<table border=\"1\" class=\"dataframe\">\n",
              "  <thead>\n",
              "    <tr style=\"text-align: right;\">\n",
              "      <th></th>\n",
              "      <th>Model</th>\n",
              "      <th>Accuracy %</th>\n",
              "    </tr>\n",
              "  </thead>\n",
              "  <tbody>\n",
              "    <tr>\n",
              "      <th>0</th>\n",
              "      <td>Decision Tree Classifier</td>\n",
              "      <td>80.0</td>\n",
              "    </tr>\n",
              "    <tr>\n",
              "      <th>1</th>\n",
              "      <td>Random Forest Classifier</td>\n",
              "      <td>87.5</td>\n",
              "    </tr>\n",
              "    <tr>\n",
              "      <th>2</th>\n",
              "      <td>Naive Bayes</td>\n",
              "      <td>82.5</td>\n",
              "    </tr>\n",
              "    <tr>\n",
              "      <th>3</th>\n",
              "      <td>Support Vector Machine (SVM)</td>\n",
              "      <td>77.5</td>\n",
              "    </tr>\n",
              "  </tbody>\n",
              "</table>\n",
              "</div>"
            ],
            "text/plain": [
              "                          Model  Accuracy %\n",
              "0      Decision Tree Classifier        80.0\n",
              "1      Random Forest Classifier        87.5\n",
              "2                   Naive Bayes        82.5\n",
              "3  Support Vector Machine (SVM)        77.5"
            ]
          },
          "execution_count": 71,
          "metadata": {},
          "output_type": "execute_result"
        }
      ],
      "source": [
        "pd.DataFrame(data={'Model': ['Decision Tree Classifier', 'Random Forest Classifier', 'Naive Bayes', 'Support Vector Machine (SVM)'], 'Accuracy %': [tr_acc, rf_acc, gnb_acc, svm_acc]})"
      ]
    },
    {
      "cell_type": "code",
      "execution_count": null,
      "id": "99cb7e4a",
      "metadata": {
        "execution": {
          "iopub.execute_input": "2022-11-03T14:39:38.717585Z",
          "iopub.status.busy": "2022-11-03T14:39:38.717134Z",
          "iopub.status.idle": "2022-11-03T14:39:38.983958Z",
          "shell.execute_reply": "2022-11-03T14:39:38.982990Z"
        },
        "id": "99cb7e4a",
        "papermill": {
          "duration": 0.310269,
          "end_time": "2022-11-03T14:39:38.986517",
          "exception": false,
          "start_time": "2022-11-03T14:39:38.676248",
          "status": "completed"
        },
        "tags": [],
        "outputId": "1cf9714d-70e4-4da0-95c4-e73743995009"
      },
      "outputs": [
        {
          "data": {
            "image/png": "[encoded data removed]",
            "text/plain": [
              "<Figure size 1080x576 with 1 Axes>"
            ]
          },
          "metadata": {},
          "output_type": "display_data"
        }
      ],
      "source": [
        "plt.style.use(\"seaborn\")\n",
        "\n",
        "x = ['Decision Tree Classifier', 'Random Forest Classifier', 'Naive Bayes','Support Vector Machine (SVM)']\n",
        "\n",
        "y = [tr_acc, rf_acc, gnb_acc, svm_acc]\n",
        "\n",
        "fig, ax = plt.subplots(figsize=(15,8))\n",
        "sns.barplot(x=x,y=y, palette='Accent')\n",
        "plt.ylabel('Model Accuracy')\n",
        "plt.xticks(rotation=40)\n",
        "plt.title('Model Comparison - Model Accuracy', fontsize=15, fontname='monospace', y=1.03);"
      ]
    }
  ],
  "metadata": {
    "kernelspec": {
      "display_name": "Python 3",
      "language": "python",
      "name": "python3"
    },
    "language_info": {
      "codemirror_mode": {
        "name": "ipython",
        "version": 3
      },
      "file_extension": ".py",
      "mimetype": "text/x-python",
      "name": "python",
      "nbconvert_exporter": "python",
      "pygments_lexer": "ipython3",
      "version": "3.7.12"
    },
    "papermill": {
      "default_parameters": {},
      "duration": 29.489386,
      "end_time": "2022-11-03T14:39:39.946918",
      "environment_variables": {},
      "exception": null,
      "input_path": "__notebook__.ipynb",
      "output_path": "__notebook__.ipynb",
      "parameters": {},
      "start_time": "2022-11-03T14:39:10.457532",
      "version": "2.3.4"
    },
    "colab": {
      "provenance": [],
      "collapsed_sections": []
    }
  },
  "nbformat": 4,
  "nbformat_minor": 5
}